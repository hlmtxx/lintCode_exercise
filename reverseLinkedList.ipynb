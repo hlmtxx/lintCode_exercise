{
 "cells": [
  {
   "cell_type": "code",
   "execution_count": 9,
   "metadata": {},
   "outputs": [
    {
     "name": "stdout",
     "output_type": "stream",
     "text": [
      "1\n",
      "6\n",
      "5\n",
      "4\n",
      "2\n",
      "7\n",
      "8\n"
     ]
    }
   ],
   "source": [
    "\n",
    "class listNode(object):\n",
    "    def __init__(self,val,next=None):\n",
    "        self.val=val\n",
    "        self.next=next\n",
    "class solution:\n",
    "    def reverse(self,head):\n",
    "        prev=None\n",
    "        while head:\n",
    "            temp=head.next\n",
    "            head.next=prev\n",
    "            prev=head\n",
    "            head=temp\n",
    "    \n",
    "    def findkth(self,head,k):\n",
    "        for i in xrange(k):\n",
    "            if head is None:\n",
    "                return None\n",
    "            head=head.next\n",
    "        return head\n",
    "        \n",
    "    def reverseBetween(self,head,m,n):\n",
    "        dummy=listNode(-1,head)\n",
    "        mth_prev=self.findkth(dummy,m-1)\n",
    "        mth=mth_prev.next\n",
    "        nth=self.findkth(dummy,n)\n",
    "        temp=nth.next\n",
    "        #nth.next=None\n",
    "        nth_next = nth.next   #nth_next与nth.next的区别\n",
    "        nth.next = None\n",
    "        self.reverse(mth)\n",
    "        mth_prev.next=nth\n",
    "        #mth.next=temp\n",
    "        mth.next=nth_next\n",
    "        return head\n",
    "        \n",
    "example=solution()\n",
    "a=listNode(1)\n",
    "b=listNode(2)\n",
    "c=listNode(4)\n",
    "d=listNode(5)\n",
    "e=listNode(6)\n",
    "f=listNode(7)\n",
    "g=listNode(8)\n",
    "a.next=b\n",
    "b.next=c\n",
    "c.next=d\n",
    "d.next=e\n",
    "e.next=f\n",
    "f.next=g\n",
    "head=example.reverseBetween(a,2,5)\n",
    "while head:\n",
    "    print head.val\n",
    "    head=head.next"
   ]
  },
  {
   "cell_type": "code",
   "execution_count": null,
   "metadata": {},
   "outputs": [],
   "source": []
  }
 ],
 "metadata": {
  "kernelspec": {
   "display_name": "Python 2",
   "language": "python",
   "name": "python2"
  },
  "language_info": {
   "codemirror_mode": {
    "name": "ipython",
    "version": 2
   },
   "file_extension": ".py",
   "mimetype": "text/x-python",
   "name": "python",
   "nbconvert_exporter": "python",
   "pygments_lexer": "ipython2",
   "version": "2.7.15"
  }
 },
 "nbformat": 4,
 "nbformat_minor": 2
}
