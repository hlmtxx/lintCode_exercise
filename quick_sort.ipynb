{
 "cells": [
  {
   "cell_type": "code",
   "execution_count": 7,
   "metadata": {},
   "outputs": [
    {
     "name": "stdout",
     "output_type": "stream",
     "text": [
      "3 2\n"
     ]
    }
   ],
   "source": [
    "a=[1,2,3]\n",
    "b=[2,3,4]\n",
    "a[1],a[2]=a[2],a[1]\n",
    "print a[1],a[2]\n"
   ]
  },
  {
   "cell_type": "code",
   "execution_count": 3,
   "metadata": {},
   "outputs": [
    {
     "name": "stdout",
     "output_type": "stream",
     "text": [
      "55\n",
      "23\n",
      "2\n",
      "3\n",
      "4\n",
      "[1, 2, 3, 4, 21, 23, 24, 55]\n"
     ]
    }
   ],
   "source": [
    "def partition(num,start,end):\n",
    "    pivot=num[end]\n",
    "    print pivot\n",
    "    index=start-1\n",
    "    for i in range(start,end):\n",
    "        if num[i]<=pivot:\n",
    "            index+=1\n",
    "            num[index],num[i]=num[i],num[index]\n",
    "    num[index+1],num[end]=num[end],num[index+1]\n",
    "    return index+1\n",
    "\n",
    "def quick_sort(num,start,end):\n",
    "    if start<end:\n",
    "        index=partition(num,start,end)\n",
    "        quick_sort(num,start,index-1)\n",
    "        quick_sort(num,index+1,end)\n",
    "        \n",
    "num=[21,3,4,1,24,2,23,55]\n",
    "quick_sort(num,0,7)\n",
    "print num\n"
   ]
  },
  {
   "cell_type": "code",
   "execution_count": null,
   "metadata": {},
   "outputs": [],
   "source": []
  },
  {
   "cell_type": "code",
   "execution_count": null,
   "metadata": {},
   "outputs": [],
   "source": []
  }
 ],
 "metadata": {
  "kernelspec": {
   "display_name": "Python 2",
   "language": "python",
   "name": "python2"
  },
  "language_info": {
   "codemirror_mode": {
    "name": "ipython",
    "version": 2
   },
   "file_extension": ".py",
   "mimetype": "text/x-python",
   "name": "python",
   "nbconvert_exporter": "python",
   "pygments_lexer": "ipython2",
   "version": "2.7.15"
  }
 },
 "nbformat": 4,
 "nbformat_minor": 2
}
