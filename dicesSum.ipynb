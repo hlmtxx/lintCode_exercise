{
 "cells": [
  {
   "cell_type": "code",
   "execution_count": 1,
   "metadata": {},
   "outputs": [
    {
     "name": "stdout",
     "output_type": "stream",
     "text": [
      "[[0, 0, 0, 0, 0, 0, 0, 0, 0, 0, 0, 0, 0], [0, 0.16666666666666666, 0.16666666666666666, 0.16666666666666666, 0.16666666666666666, 0.16666666666666666, 0.16666666666666666, 0, 0, 0, 0, 0, 0], [0, 0, 0, 0, 0, 0, 0, 0, 0, 0, 0, 0, 0]]\n"
     ]
    }
   ],
   "source": [
    "n=2\n",
    "f=[[0 for j in xrange(6*n+1)] for i in xrange(n+1)]\n",
    "\n",
    "for i in xrange(1,7):\n",
    "    f[1][i]=1.0/6.0\n",
    "\n",
    "for i in xrange(2,n+1):\n",
    "    for j in xrange(i,6*n+1):\n",
    "        for k in xrange(1,7):\n",
    "            if j>k:\n",
    "                f[i][j]+=f[i-1][j-k]\n",
    "        f[i][j]/= 6.0\n",
    "for i in xrange(n, 6*n+1):\n",
    "    results.append((i,f[n][i]))\n",
    "\n"
   ]
  },
  {
   "cell_type": "code",
   "execution_count": null,
   "metadata": {},
   "outputs": [],
   "source": []
  }
 ],
 "metadata": {
  "kernelspec": {
   "display_name": "Python 2",
   "language": "python",
   "name": "python2"
  },
  "language_info": {
   "codemirror_mode": {
    "name": "ipython",
    "version": 2
   },
   "file_extension": ".py",
   "mimetype": "text/x-python",
   "name": "python",
   "nbconvert_exporter": "python",
   "pygments_lexer": "ipython2",
   "version": "2.7.15"
  }
 },
 "nbformat": 4,
 "nbformat_minor": 2
}
