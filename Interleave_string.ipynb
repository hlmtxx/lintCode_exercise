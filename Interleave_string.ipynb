{
 "cells": [
  {
   "cell_type": "code",
   "execution_count": 9,
   "metadata": {},
   "outputs": [
    {
     "name": "stdout",
     "output_type": "stream",
     "text": [
      "(True, [[True, False, False, False], [True, True, False, False], [True, True, True, False], [False, True, True, True]])\n"
     ]
    }
   ],
   "source": [
    "class solution:\n",
    "    def IsInterleave(self,s1,s2,s3):\n",
    "        if s1 is None or s2 is None or s3 is None:\n",
    "            return False\n",
    "        if len(s1) +len(s2) !=len(s3):\n",
    "            return False\n",
    "        \n",
    "        interleave=[[False]*(len(s2)+1) for i in range(len(s1)+1)]\n",
    "        interleave[0][0]=True\n",
    "        for i in range(len(s1)): \n",
    "            interleave[i+1][0]=s1[:i+1]==s3[:i+1]\n",
    "        for i in range(len(s2)):\n",
    "            interleave[0][i+1]=s2[:i+1]==s3[:i+1]\n",
    "            \n",
    "        for i in range(len(s1)):\n",
    "            for j in range(len(s2)):\n",
    "                interleave[i+1][j+1]=False\n",
    "                if s1[i]==s3[i+j+1]:\n",
    "                    interleave[i+1][j+1]=interleave[i][j+1]\n",
    "                if s2[j]==s3[i+j+1]:\n",
    "                    interleave[i+1][j+1]=interleave[i+1][j]\n",
    "        return interleave[len(s1)][len(s2)],interleave\n",
    "                \n",
    "example=solution()\n",
    "s1='abc'\n",
    "s2='bca'\n",
    "s3='abbcca'\n",
    "print example.IsInterleave(s1,s2,s3)"
   ]
  },
  {
   "cell_type": "code",
   "execution_count": 5,
   "metadata": {},
   "outputs": [
    {
     "data": {
      "text/plain": [
       "[True, False, False, False, False]"
      ]
     },
     "execution_count": 5,
     "metadata": {},
     "output_type": "execute_result"
    }
   ],
   "source": [
    "dp=[True]+[False for _ in range(4)]\n",
    "dp[2]=dp[2] and dp[0] is True"
   ]
  },
  {
   "cell_type": "code",
   "execution_count": null,
   "metadata": {},
   "outputs": [],
   "source": []
  }
 ],
 "metadata": {
  "kernelspec": {
   "display_name": "Python 2",
   "language": "python",
   "name": "python2"
  },
  "language_info": {
   "codemirror_mode": {
    "name": "ipython",
    "version": 2
   },
   "file_extension": ".py",
   "mimetype": "text/x-python",
   "name": "python",
   "nbconvert_exporter": "python",
   "pygments_lexer": "ipython2",
   "version": "2.7.15"
  }
 },
 "nbformat": 4,
 "nbformat_minor": 2
}
