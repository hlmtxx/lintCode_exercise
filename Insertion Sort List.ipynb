{
 "cells": [
  {
   "cell_type": "code",
   "execution_count": 54,
   "metadata": {},
   "outputs": [
    {
     "name": "stdout",
     "output_type": "stream",
     "text": [
      "5\n",
      "1\n",
      "3\n",
      "2\n",
      "result\n",
      "1\n",
      "2\n",
      "3\n",
      "5\n"
     ]
    }
   ],
   "source": [
    "class LinkedListNode:\n",
    "    def __init__(self, val, next=None):\n",
    "        self.val=val\n",
    "        self.next=next\n",
    "        \n",
    "class solution:        \n",
    "    def insertionSortList(self, head):\n",
    "        # write your code here\n",
    "        dummy = LinkedListNode(0)\n",
    "\n",
    "        while head:\n",
    "            temp = dummy\n",
    "            next = head.next\n",
    "            while temp.next and temp.next.val < head.val:\n",
    "                temp = temp.next\n",
    "\n",
    "            head.next = temp.next\n",
    "            temp.next = head\n",
    "            head = next\n",
    "            print temp.next.val\n",
    "        return dummy.next\n",
    "head=LinkedListNode(5)\n",
    "a=LinkedListNode(1)\n",
    "b=LinkedListNode(3)\n",
    "c=LinkedListNode(2)\n",
    "head.next=a\n",
    "a.next=b\n",
    "b.next=c\n",
    "\n",
    "example=solution()\n",
    "result=example.insertionSortList(head)\n",
    "print 'result'\n",
    "while result:\n",
    "    \n",
    "    print result.val\n",
    "    result=result.next"
   ]
  },
  {
   "cell_type": "code",
   "execution_count": 13,
   "metadata": {
    "scrolled": true
   },
   "outputs": [
    {
     "name": "stdout",
     "output_type": "stream",
     "text": [
      "result\n",
      "1\n",
      "2\n",
      "3\n",
      "5\n"
     ]
    }
   ],
   "source": [
    "class LinkedListNode:\n",
    "    def __init__(self,val,next=None):\n",
    "        self.val=val\n",
    "        self.next=next\n",
    "        \n",
    "class solution:\n",
    "    def InsertionSortList(self,head):\n",
    "        dummy=linkedListNode(0)\n",
    "        while head:\n",
    "            temp=dummy\n",
    "            next=head.next\n",
    "            while temp.next and temp.next.val<head.val:\n",
    "                temp=temp.next\n",
    "            head.next=temp.next\n",
    "            temp.next=head\n",
    "            head=next\n",
    "        return dummy.next\n",
    "head=LinkedListNode(5)\n",
    "a=LinkedListNode(1)\n",
    "b=LinkedListNode(3)\n",
    "c=LinkedListNode(2)\n",
    "head.next=a\n",
    "a.next=b\n",
    "b.next=c\n",
    "\n",
    "example=solution()\n",
    "result=example.InsertionSortList(head)\n",
    "print 'result'\n",
    "while result:\n",
    "    \n",
    "    print result.val\n",
    "    result=result.next"
   ]
  },
  {
   "cell_type": "code",
   "execution_count": 22,
   "metadata": {},
   "outputs": [
    {
     "name": "stdout",
     "output_type": "stream",
     "text": [
      "[4, 213, 6, 73, 5, 5, 5, 23, 5, 7, 2, 8, 111]\n",
      "[4, 6, 213, 73, 5, 5, 5, 23, 5, 7, 2, 8, 111]\n",
      "[4, 6, 73, 213, 5, 5, 5, 23, 5, 7, 2, 8, 111]\n",
      "[4, 5, 6, 73, 213, 5, 5, 23, 5, 7, 2, 8, 111]\n",
      "[4, 5, 5, 6, 73, 213, 5, 23, 5, 7, 2, 8, 111]\n",
      "[4, 5, 5, 5, 6, 73, 213, 23, 5, 7, 2, 8, 111]\n",
      "[4, 5, 5, 5, 6, 23, 73, 213, 5, 7, 2, 8, 111]\n",
      "[4, 5, 5, 5, 5, 6, 23, 73, 213, 7, 2, 8, 111]\n",
      "[4, 5, 5, 5, 5, 6, 7, 23, 73, 213, 2, 8, 111]\n",
      "[2, 4, 5, 5, 5, 5, 6, 7, 23, 73, 213, 8, 111]\n",
      "[2, 4, 5, 5, 5, 5, 6, 7, 8, 23, 73, 213, 111]\n",
      "[2, 4, 5, 5, 5, 5, 6, 7, 8, 23, 73, 111, 213]\n",
      "[2, 4, 5, 5, 5, 5, 6, 7, 8, 23, 73, 111, 213]\n"
     ]
    }
   ],
   "source": [
    "class solution:\n",
    "    def InsertionSort(self, nums):\n",
    "        lenth=len(nums)\n",
    "        for i in range(1,lenth):\n",
    "            x=nums[i]\n",
    "            for j in range(i-1,-2,-1):\n",
    "                if x<nums[j]:\n",
    "                    nums[j+1]=nums[j]\n",
    "                else:\n",
    "                    break\n",
    "            nums[j+1]=x\n",
    "            print nums\n",
    "example=solution()\n",
    "nums=[213,4,6,73,5,5,5,23,5,7,2,8,111]\n",
    "example.InsertionSort(nums)\n",
    "print nums\n",
    "                    "
   ]
  },
  {
   "cell_type": "code",
   "execution_count": null,
   "metadata": {},
   "outputs": [],
   "source": []
  }
 ],
 "metadata": {
  "kernelspec": {
   "display_name": "Python 2",
   "language": "python",
   "name": "python2"
  },
  "language_info": {
   "codemirror_mode": {
    "name": "ipython",
    "version": 2
   },
   "file_extension": ".py",
   "mimetype": "text/x-python",
   "name": "python",
   "nbconvert_exporter": "python",
   "pygments_lexer": "ipython2",
   "version": "2.7.15"
  }
 },
 "nbformat": 4,
 "nbformat_minor": 2
}
