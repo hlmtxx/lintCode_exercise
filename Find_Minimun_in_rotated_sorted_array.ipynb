{
 "cells": [
  {
   "cell_type": "code",
   "execution_count": null,
   "metadata": {},
   "outputs": [],
   "source": [
    "# //  这道题目在面试中不会让写完整的程序\n",
    "# //  只需要知道最坏情况下 [1,1,1....,1] 里有一个0\n",
    "#         //  这种情况使得时间复杂度必须是 O(n)\n",
    "#         //  因此写一个for循环就好了。\n",
    "#         //  如果你觉得，不是每个情况都是最坏情况，你想用二分法解决不是最坏情况的情况，那你就写一个二分吧。\n",
    "#         //  反正面试考的不是你在这个题上会不会用二分法。这个题的考点是你想不想得到最坏情况。\n",
    "class solution:\n",
    "    def findMin(self,num):\n",
    "        Min=num[0]\n",
    "        start,end=0,len(num)-1\n",
    "        while start<end:\n",
    "            mid=(start+end)/2\n",
    "            if num[mid]>num[end]:\n",
    "                start=mid=1\n",
    "            elif num[mid]<num[end]:\n",
    "                end=mid\n",
    "            else:\n",
    "                end=end-1\n",
    "        return num[start]"
   ]
  },
  {
   "cell_type": "code",
   "execution_count": 1,
   "metadata": {},
   "outputs": [
    {
     "data": {
      "text/plain": [
       "3"
      ]
     },
     "execution_count": 1,
     "metadata": {},
     "output_type": "execute_result"
    }
   ],
   "source": [
    "7/2\n"
   ]
  },
  {
   "cell_type": "code",
   "execution_count": null,
   "metadata": {},
   "outputs": [],
   "source": []
  }
 ],
 "metadata": {
  "kernelspec": {
   "display_name": "Python 2",
   "language": "python",
   "name": "python2"
  },
  "language_info": {
   "codemirror_mode": {
    "name": "ipython",
    "version": 2
   },
   "file_extension": ".py",
   "mimetype": "text/x-python",
   "name": "python",
   "nbconvert_exporter": "python",
   "pygments_lexer": "ipython2",
   "version": "2.7.15"
  }
 },
 "nbformat": 4,
 "nbformat_minor": 2
}
