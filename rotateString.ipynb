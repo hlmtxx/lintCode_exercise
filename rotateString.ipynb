{
 "cells": [
  {
   "cell_type": "code",
   "execution_count": 20,
   "metadata": {},
   "outputs": [
    {
     "name": "stdout",
     "output_type": "stream",
     "text": [
      "['w', 'e', 'a', 's', 'd', 'q']\n"
     ]
    }
   ],
   "source": [
    "\n",
    "class solution:\n",
    "\n",
    "    def rotateString(self,s,offset):\n",
    "        if len(s)>0:\n",
    "            offset=offset%len(s)\n",
    "        temp=(s+s)[len(s)-offset:2*len(s)-offset]\n",
    "        \n",
    "        \n",
    "        for i in xrange(len(temp)):\n",
    "            s[i]=temp[i]\n",
    "        \n",
    "q1=solution()\n",
    "\n",
    "s=['a','s','d','q','w','e']\n",
    "offset=2\n",
    "solution().rotateString(s,offset)\n",
    "print s\n"
   ]
  },
  {
   "cell_type": "code",
   "execution_count": 21,
   "metadata": {},
   "outputs": [
    {
     "data": {
      "text/plain": [
       "[1, 3, 4, 5, 1, 2, 3, 4]"
      ]
     },
     "execution_count": 21,
     "metadata": {},
     "output_type": "execute_result"
    }
   ],
   "source": [
    "a=[1,3,4,5]\n",
    "b=[1,2,3,4]\n",
    "a+b"
   ]
  },
  {
   "cell_type": "code",
   "execution_count": null,
   "metadata": {},
   "outputs": [],
   "source": []
  }
 ],
 "metadata": {
  "kernelspec": {
   "display_name": "Python 2",
   "language": "python",
   "name": "python2"
  },
  "language_info": {
   "codemirror_mode": {
    "name": "ipython",
    "version": 2
   },
   "file_extension": ".py",
   "mimetype": "text/x-python",
   "name": "python",
   "nbconvert_exporter": "python",
   "pygments_lexer": "ipython2",
   "version": "2.7.15"
  }
 },
 "nbformat": 4,
 "nbformat_minor": 2
}
