{
 "cells": [
  {
   "cell_type": "code",
   "execution_count": 7,
   "metadata": {},
   "outputs": [
    {
     "name": "stdout",
     "output_type": "stream",
     "text": [
      "4\n",
      "5\n",
      "6\n",
      "3\n",
      "1\n",
      "3\n",
      "6\n",
      "[1, 3, 3, 4, 5, 6, 6, 23]\n"
     ]
    }
   ],
   "source": [
    "def insertion_sort(num):\n",
    "    n=len(num)\n",
    "    for j in range(1,n):\n",
    "        \n",
    "        key=num[j]\n",
    "        print key\n",
    "        i=j-1\n",
    "        while i>=0 and num[i]>key:\n",
    "            num[i+1]=num[i]\n",
    "            i-=1\n",
    "        num[i+1]=key\n",
    "        \n",
    "num=[23,4,5,6,3,1,3,6]\n",
    "\n",
    "insertion_sort(num)\n",
    "print num"
   ]
  },
  {
   "cell_type": "code",
   "execution_count": 2,
   "metadata": {},
   "outputs": [
    {
     "name": "stdout",
     "output_type": "stream",
     "text": [
      "[1, 3, 3, 4, 5, 6, 6, 23]\n"
     ]
    }
   ],
   "source": [
    "def selection_sort(num):\n",
    "    n=len(num)\n",
    "    for i in range(n-1):\n",
    "        #Min=i\n",
    "        for j in range(i+1,n):\n",
    "            if num[j]<num[i]:\n",
    "                \n",
    "                num[i],num[j]=num[j],num[i]\n",
    "\n",
    "num=[23,4,5,6,3,1,3,6]\n",
    "selection_sort(num)\n",
    "print num"
   ]
  },
  {
   "cell_type": "code",
   "execution_count": null,
   "metadata": {},
   "outputs": [],
   "source": []
  }
 ],
 "metadata": {
  "kernelspec": {
   "display_name": "Python 2",
   "language": "python",
   "name": "python2"
  },
  "language_info": {
   "codemirror_mode": {
    "name": "ipython",
    "version": 2
   },
   "file_extension": ".py",
   "mimetype": "text/x-python",
   "name": "python",
   "nbconvert_exporter": "python",
   "pygments_lexer": "ipython2",
   "version": "2.7.15"
  }
 },
 "nbformat": 4,
 "nbformat_minor": 2
}
