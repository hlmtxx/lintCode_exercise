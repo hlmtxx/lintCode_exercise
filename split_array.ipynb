{
 "cells": [
  {
   "cell_type": "code",
   "execution_count": 10,
   "metadata": {},
   "outputs": [
    {
     "name": "stdout",
     "output_type": "stream",
     "text": [
      "1 2 0\n",
      "1 1 0\n",
      "2 0 0\n",
      "2 0 0\n",
      "3 0 2\n",
      "3 0 2\n",
      "4 1 0\n",
      "true\n"
     ]
    }
   ],
   "source": [
    "from operator import itemgetter #itemgetter用来去dict中的key，省去了使用lambda函数\n",
    "from itertools import groupby #itertool还包含有其他很多函数，比如将多个list联合起来。。\n",
    "import collections \n",
    "lst=[1,1,2,2,3,3,4]\n",
    "    \n",
    "\n",
    "left=collections.Counter(lst)\n",
    "end=collections.Counter()\n",
    "for i in lst:\n",
    "    print i,left[i],end[i]\n",
    "    if not left[i]:continue\n",
    "    left[i] -=1\n",
    "    if end[i-1]>0:\n",
    "        end[i-1]-=1\n",
    "        end[i]+=1\n",
    "    elif left[i+1] and left[i+2]:\n",
    "        left[i+1]-=1\n",
    "        left[i+2]-=1\n",
    "        end[i+2]+=1\n",
    "    else:\n",
    "        print 'false'\n",
    "print 'true'"
   ]
  },
  {
   "cell_type": "code",
   "execution_count": null,
   "metadata": {},
   "outputs": [],
   "source": []
  },
  {
   "cell_type": "code",
   "execution_count": null,
   "metadata": {},
   "outputs": [],
   "source": []
  }
 ],
 "metadata": {
  "kernelspec": {
   "display_name": "Python 2",
   "language": "python",
   "name": "python2"
  },
  "language_info": {
   "codemirror_mode": {
    "name": "ipython",
    "version": 2
   },
   "file_extension": ".py",
   "mimetype": "text/x-python",
   "name": "python",
   "nbconvert_exporter": "python",
   "pygments_lexer": "ipython2",
   "version": "2.7.15"
  }
 },
 "nbformat": 4,
 "nbformat_minor": 2
}
