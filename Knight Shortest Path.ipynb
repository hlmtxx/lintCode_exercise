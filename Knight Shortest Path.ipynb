{
 "cells": [
  {
   "cell_type": "code",
   "execution_count": null,
   "metadata": {},
   "outputs": [],
   "source": [
    "# 描述\n",
    "# 给定骑士在棋盘上的 初始 位置(一个2进制矩阵 0 表示空 1 表示有障碍物)，找到到达 终点 的最短路线，返回路线的长度。如果骑士不能到达则返回 -1 。\n",
    "\n",
    "# 说明\n",
    "# 如果骑士的位置为 (x,y)，他下一步可以到达以下这些位置:\n",
    "\n",
    "# (x + 1, y + 2)\n",
    "# (x + 1, y - 2)\n",
    "# (x - 1, y + 2)\n",
    "# (x - 1, y - 2)\n",
    "# (x + 2, y + 1)\n",
    "# (x + 2, y - 1)\n",
    "# (x - 2, y + 1)\n",
    "# (x - 2, y - 1)\n",
    "\n",
    "# 样例\n",
    "# 例1:\n",
    "\n",
    "# 输入:\n",
    "# [[0,0,0],\n",
    "# [0,0,0],\n",
    "# [0,0,0]]\n",
    "# source = [2, 0] destination = [2, 2]\n",
    "# 输出: 2\n",
    "# 解释:\n",
    "# [2,0]->[0,1]->[2,2]\n",
    "# 例2:\n",
    "\n",
    "# 输入:\n",
    "# [[0,1,0],\n",
    "# [0,0,1],\n",
    "# [0,0,0]]\n",
    "# source = [2, 0] destination = [2, 2]\n",
    "# 输出:-1\n"
   ]
  },
  {
   "cell_type": "code",
   "execution_count": 3,
   "metadata": {},
   "outputs": [
    {
     "name": "stdout",
     "output_type": "stream",
     "text": [
      "-1\n"
     ]
    }
   ],
   "source": [
    "from collections import deque\n",
    "\n",
    "class Point:\n",
    "    def __init__(self,a=0,b=0):\n",
    "        self.x=a\n",
    "        self.y=b\n",
    "\n",
    "class solution:\n",
    "    def KnightShortestPath(self,grid,source,destination):\n",
    "        n=len(grid)\n",
    "        m=len(grid[0])\n",
    "        self.dx=[1,1,-1,-1,2,2,-2,-2]\n",
    "        self.dy=[2,-2,2,-2,1,-1,1,-1]\n",
    "        queue=deque([source])\n",
    "        step=0\n",
    "        while queue:\n",
    "            for _ in range(len(queue)):\n",
    "                node=queue.popleft()\n",
    "                grid[node.x][node.y]=True\n",
    "                if node.x==destination.x and node.y==destination.y:\n",
    "                    return step\n",
    "                for i in range(8):\n",
    "                    Next_x=node.x+self.dx[i]\n",
    "                    Next_y=node.y+self.dy[i]\n",
    "                    if Next_x<0 or Next_x>n-1 or Next_y<0 or Next_y>m-1 or grid[Next_x][Next_y]:\n",
    "                        continue\n",
    "                    queue.append(Point(Next_x,Next_y))\n",
    "                    grid[Next_x][Next_y]=True\n",
    "                step+=1\n",
    "        return -1\n",
    "    \n",
    "example=solution()\n",
    "grid=[[0,1,0],\n",
    "      [0,0,1],\n",
    "      [0,0,0]]\n",
    "source=Point(2,0)\n",
    "destination=Point(2,2)\n",
    "print example.KnightShortestPath(grid,source,destination)"
   ]
  },
  {
   "cell_type": "code",
   "execution_count": null,
   "metadata": {},
   "outputs": [],
   "source": [
    "a=1\n",
    "not a"
   ]
  }
 ],
 "metadata": {
  "kernelspec": {
   "display_name": "Python 2",
   "language": "python",
   "name": "python2"
  },
  "language_info": {
   "codemirror_mode": {
    "name": "ipython",
    "version": 2
   },
   "file_extension": ".py",
   "mimetype": "text/x-python",
   "name": "python",
   "nbconvert_exporter": "python",
   "pygments_lexer": "ipython2",
   "version": "2.7.15"
  }
 },
 "nbformat": 4,
 "nbformat_minor": 2
}
