{
 "cells": [
  {
   "cell_type": "code",
   "execution_count": 10,
   "metadata": {},
   "outputs": [
    {
     "data": {
      "text/plain": [
       "2"
      ]
     },
     "execution_count": 10,
     "metadata": {},
     "output_type": "execute_result"
    }
   ],
   "source": [
    "def partition(num,start,end):\n",
    "    pivot=num[end]\n",
    "    index=start-1\n",
    "    for i in range(start,end):\n",
    "        if num[i]<=pivot:\n",
    "            index+=1\n",
    "            num[index],num[i]=num[i],num[index]\n",
    "    num[index+1],num[end]=num[end],num[index+1]\n",
    "    return index+1\n",
    "def quick_select(num, start, end, k):\n",
    "    if start==end:\n",
    "        return num[start]\n",
    "    index=partition(num,start,end)\n",
    "    i=index-start+1\n",
    "    if i==k:\n",
    "        return num[index]\n",
    "    elif k<i:\n",
    "        return quick_select(num,start,index-1,k)\n",
    "    else:\n",
    "        return quick_select(num,index+1,end,k-i)\n",
    "num=[1,2,3,4,5,4,5,2,4,6,7,1]\n",
    "quick_select(num,0,11,4)"
   ]
  },
  {
   "cell_type": "code",
   "execution_count": null,
   "metadata": {},
   "outputs": [],
   "source": []
  }
 ],
 "metadata": {
  "kernelspec": {
   "display_name": "Python 2",
   "language": "python",
   "name": "python2"
  },
  "language_info": {
   "codemirror_mode": {
    "name": "ipython",
    "version": 2
   },
   "file_extension": ".py",
   "mimetype": "text/x-python",
   "name": "python",
   "nbconvert_exporter": "python",
   "pygments_lexer": "ipython2",
   "version": "2.7.15"
  }
 },
 "nbformat": 4,
 "nbformat_minor": 2
}
