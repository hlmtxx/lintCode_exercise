{
 "cells": [
  {
   "cell_type": "code",
   "execution_count": 6,
   "metadata": {},
   "outputs": [
    {
     "name": "stdout",
     "output_type": "stream",
     "text": [
      "[0]\n",
      "[0, 2]\n",
      "[0, 3]\n",
      "[0, 3, 1]\n",
      "[1]\n",
      "[1, 3]\n",
      "[1, 3, 0]\n",
      "[1, 3, 0, 2]\n",
      "[2]\n",
      "[2, 0]\n",
      "[2, 0, 3]\n",
      "[2, 0, 3, 1]\n",
      "[3]\n",
      "[3, 0]\n",
      "[3, 0, 2]\n",
      "[3, 1]\n"
     ]
    },
    {
     "data": {
      "text/plain": [
       "[['.Q..', '...Q', 'Q...', '..Q.'], ['..Q.', 'Q...', '...Q', '.Q..']]"
      ]
     },
     "execution_count": 6,
     "metadata": {},
     "output_type": "execute_result"
    }
   ],
   "source": [
    "class solution:\n",
    "    def draw_chessboard(self,cols):\n",
    "        n=len(cols)\n",
    "        board=[]\n",
    "        for i in range(n):\n",
    "            row=['Q' if j==cols[i] else '.' for j in range(n)]\n",
    "            board.append(''.join(row))\n",
    "        return board\n",
    "    \n",
    "    def is_valid(self,cols,row,col):\n",
    "        for r,c in enumerate(cols):\n",
    "            if c==col:\n",
    "                return False\n",
    "            if r-c==row-col or r+c ==row+col:\n",
    "                return False\n",
    "        return True\n",
    "    \n",
    "    def search(self,n,cols,results):\n",
    "        row=len(cols)\n",
    "        if row==n:\n",
    "            results.append(self.draw_chessboard(cols))\n",
    "            return\n",
    "        for col in range(n):\n",
    "            if not self.is_valid(cols,row,col):\n",
    "                continue\n",
    "            cols.append(col)\n",
    "            print cols\n",
    "            self.search(n,cols,results)\n",
    "            cols.pop()\n",
    "            \n",
    "    def solveNQueens(self,n):\n",
    "        results=[]\n",
    "        self.search(n,[],results)\n",
    "        return results\n",
    "\n",
    "example=solution()\n",
    "example.solveNQueens(4)"
   ]
  },
  {
   "cell_type": "code",
   "execution_count": 18,
   "metadata": {},
   "outputs": [
    {
     "name": "stdout",
     "output_type": "stream",
     "text": [
      "2\n",
      "2\n"
     ]
    }
   ],
   "source": [
    "class solution:\n",
    "    total=0\n",
    "    def draw_chessboard(cols):\n",
    "        board=[]\n",
    "        n=len(cols)\n",
    "        for i in range(n):\n",
    "            row=['Q' if j==cols[i] else '.' for j in range(n)]\n",
    "            board.append(''.join(row))\n",
    "        return board\n",
    "    def is_valid(self,cols,row,col):\n",
    "        for r,c in enumerate(cols):\n",
    "            if c==col:\n",
    "                return False\n",
    "            if r-c==row-col or r+c==row+col:\n",
    "                return False\n",
    "        return True\n",
    "    def search(self,n,cols):\n",
    "        row=len(cols)\n",
    "        if row==n:\n",
    "            self.total+=1\n",
    "            return\n",
    "        for col in range(n):\n",
    "            if not self.is_valid(cols,row,col):\n",
    "                continue\n",
    "            cols.append(col)\n",
    "            self.search(n,cols)\n",
    "            cols.pop()\n",
    "    def solveNQueens(self,n):\n",
    "        \n",
    "        cols=[]\n",
    "        self.search(n,cols)\n",
    "        return self.total\n",
    "example=solution()\n",
    "print example.solveNQueens(4) \n",
    "print example.total\n",
    "            "
   ]
  },
  {
   "cell_type": "code",
   "execution_count": 52,
   "metadata": {},
   "outputs": [
    {
     "data": {
      "text/plain": [
       "[['.Q..', '...Q', 'Q...', '..Q.'], ['..Q.', 'Q...', '...Q', '.Q..']]"
      ]
     },
     "execution_count": 52,
     "metadata": {},
     "output_type": "execute_result"
    }
   ],
   "source": [
    "class solution:\n",
    "    def solveNqueens(self,n):\n",
    "        results=[]\n",
    "        cols=[]\n",
    "        self.search(n,cols,results)\n",
    "        return results\n",
    "    \n",
    "    def search(self,n,cols,results):\n",
    "        row=len(cols)\n",
    "        if row==n:\n",
    "            results.append(self.draw_chessboard(n,cols))\n",
    "            return \n",
    "        for col in range(n):\n",
    "            if not self.is_valid(cols,col,row):\n",
    "                continue\n",
    "            cols.append(col)\n",
    "            self.search(n,cols,results)\n",
    "            cols.pop()\n",
    "            \n",
    "    def is_valid(self,cols,col,row):\n",
    "        for r,c in enumerate(cols):\n",
    "            if col==c:\n",
    "                return False\n",
    "            if r-c==row-col or r+c==col+row:\n",
    "                return False\n",
    "        return True\n",
    "    \n",
    "    def draw_chessboard(self,n,cols):\n",
    "        boards=[['Q' if col==cols[row] else '.' for col in range(n)]for row in range(n)]\n",
    "        for x in range(n):\n",
    "            boards[x]=''.join(boards[x])\n",
    "        return boards\n",
    "        \n",
    "example=solution()\n",
    "example.solveNqueens(4)            "
   ]
  },
  {
   "cell_type": "code",
   "execution_count": 45,
   "metadata": {},
   "outputs": [
    {
     "name": "stdout",
     "output_type": "stream",
     "text": [
      "['Q...', '.Q..', '..Q.', '...Q']\n"
     ]
    }
   ],
   "source": [
    "cols=[0,1,2,3]\n",
    "n=4\n",
    "\n",
    "boards=[['Q' if col==cols[row] else '.' for col in range(n)]for row in range(n)]\n",
    "for x in range(4):\n",
    "    boards[x]=''.join(boards[x])\n",
    "print boards"
   ]
  },
  {
   "cell_type": "code",
   "execution_count": 50,
   "metadata": {},
   "outputs": [
    {
     "name": "stdout",
     "output_type": "stream",
     "text": [
      "['.Q..']\n"
     ]
    }
   ],
   "source": [
    "a=['.Q..']\n",
    "print a"
   ]
  },
  {
   "cell_type": "code",
   "execution_count": null,
   "metadata": {},
   "outputs": [],
   "source": []
  }
 ],
 "metadata": {
  "kernelspec": {
   "display_name": "Python 2",
   "language": "python",
   "name": "python2"
  },
  "language_info": {
   "codemirror_mode": {
    "name": "ipython",
    "version": 2
   },
   "file_extension": ".py",
   "mimetype": "text/x-python",
   "name": "python",
   "nbconvert_exporter": "python",
   "pygments_lexer": "ipython2",
   "version": "2.7.15"
  }
 },
 "nbformat": 4,
 "nbformat_minor": 2
}
