{
 "cells": [
  {
   "cell_type": "code",
   "execution_count": 13,
   "metadata": {},
   "outputs": [
    {
     "name": "stdout",
     "output_type": "stream",
     "text": [
      "81633632 81633576\n"
     ]
    }
   ],
   "source": [
    "#变量之间的赋值问题\n",
    "#a=[] and b=a a是地址 代表list所占内存块 如果修改内存块的内容 b对于的相同内存块的内容也会变\n",
    "#如果a指向另一个内存块 且修改内容，b将不会更改\n",
    "\n",
    "class Solution(object):\n",
    "    def addTwoNumbers(self, l1, l2):\n",
    "        \"\"\"\n",
    "        :type l1: ListNode\n",
    "        :type l2: ListNode\n",
    "        :rtype: ListNode\n",
    "        \"\"\"\n",
    "        p1,p2=l1,l2\n",
    "        sol=p3=ListNode(0)\n",
    "        carry=0\n",
    "        while p1 is not None or p2 is not None or carry != 0:\n",
    "            sum=0\n",
    "            if p1 is not None:\n",
    "                sum=sum+p1.val\n",
    "                p1=p1.next\n",
    "            if p2 is not None:\n",
    "                sum=sum+p2.val\n",
    "                p2=p2.next\n",
    "            sum=sum+carry\n",
    "            p3.next=ListNode(sum%10)\n",
    "            p3=p3.next\n",
    "            carry=sum/10\n",
    "        return sol.next"
   ]
  },
  {
   "cell_type": "code",
   "execution_count": 32,
   "metadata": {},
   "outputs": [
    {
     "name": "stdout",
     "output_type": "stream",
     "text": [
      "[4, 2] [1, 2, [4, 2]] [4, 2]\n"
     ]
    }
   ],
   "source": [
    "c=[1,2]\n",
    "a=[1,2,c]\n",
    "b=a\n",
    "a=a[2]\n",
    "c[0]=4\n",
    "print a,b,c\n"
   ]
  },
  {
   "cell_type": "code",
   "execution_count": null,
   "metadata": {},
   "outputs": [],
   "source": []
  }
 ],
 "metadata": {
  "kernelspec": {
   "display_name": "Python 2",
   "language": "python",
   "name": "python2"
  },
  "language_info": {
   "codemirror_mode": {
    "name": "ipython",
    "version": 2
   },
   "file_extension": ".py",
   "mimetype": "text/x-python",
   "name": "python",
   "nbconvert_exporter": "python",
   "pygments_lexer": "ipython2",
   "version": "2.7.15"
  }
 },
 "nbformat": 4,
 "nbformat_minor": 2
}
