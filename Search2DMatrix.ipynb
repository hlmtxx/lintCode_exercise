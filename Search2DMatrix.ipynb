{
 "cells": [
  {
   "cell_type": "code",
   "execution_count": null,
   "metadata": {},
   "outputs": [],
   "source": [
    "class solution:\n",
    "    def searchMatrix(self,matrix,target):\n",
    "        if len(matrix)==0:\n",
    "            return False\n",
    "        \n",
    "        n,m=len(matrix),len(matrix[0])\n",
    "        start,end=0,n*m-1\n",
    "        while start+1<end:\n",
    "            mid=(start+end)/2\n",
    "            x,y=mid/m,mid%m ###########\n",
    "            if matrix[x][y]<target:\n",
    "                start=mid\n",
    "            else; \n",
    "                end=mid\n",
    "        x,y=start/m,start%m\n",
    "        if matrix[x][y]==target:\n",
    "            return True\n",
    "        \n",
    "        x,y =end/m,end%m\n",
    "        if matrix[x][y]==target:\n",
    "            return True\n",
    "        \n",
    "        return False"
   ]
  }
 ],
 "metadata": {
  "kernelspec": {
   "display_name": "Python 2",
   "language": "python",
   "name": "python2"
  },
  "language_info": {
   "codemirror_mode": {
    "name": "ipython",
    "version": 2
   },
   "file_extension": ".py",
   "mimetype": "text/x-python",
   "name": "python",
   "nbconvert_exporter": "python",
   "pygments_lexer": "ipython2",
   "version": "2.7.15"
  }
 },
 "nbformat": 4,
 "nbformat_minor": 2
}
