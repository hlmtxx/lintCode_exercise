{
 "cells": [
  {
   "cell_type": "code",
   "execution_count": null,
   "metadata": {},
   "outputs": [],
   "source": [
    "class solution:\n",
    "    def maxTwoSubArray(self,nums):\n",
    "        n=len(nums)\n",
    "        a=nums[:]\n",
    "        aa=nums[:]\n",
    "        for i in xrange(1,n):\n",
    "            a[i]=max(nums[i],a[i-1]+nums[i])\n",
    "            aa[i]=max(a[i],aa[i-1])\n",
    "        b=nums[:]\n",
    "        bb=nums[:]\n",
    "        for i in xrange(n-2,-1,-1):\n",
    "            b[i]=max(b[i+1]+nums[i],nums[i])\n",
    "            bb[i]=max(b[i],bb[i+1])\n",
    "        mx=-65535\n",
    "        for i in xrange(n-1):\n",
    "            mx=max(aa[i]+bb[i+1],mx)\n",
    "        return mx"
   ]
  },
  {
   "cell_type": "code",
   "execution_count": 2,
   "metadata": {},
   "outputs": [
    {
     "name": "stdout",
     "output_type": "stream",
     "text": [
      "[-1, 3, 2, 4, 3, 5] [-1, 3, 3, 4, 4, 5] [-1, 3, -1, 2, -1, 2]\n",
      "[4, 5, 2, 3, 1, 2] [5, 5, 3, 3, 2, 2]\n"
     ]
    }
   ],
   "source": [
    "nums=[-1,3,-1,2,-1,2]\n",
    "n=len(nums)\n",
    "a=nums[:]\n",
    "aa=nums[:]\n",
    "for i in xrange(1,n):\n",
    "    a[i]=max(nums[i],a[i-1]+nums[i])\n",
    "    aa[i]=max(a[i],aa[i-1])\n",
    "print a,aa,nums\n",
    "b=nums[:]\n",
    "bb=nums[:]\n",
    "for i in xrange(n-2,-1,-1):\n",
    "    b[i]=max(b[i+1]+nums[i],nums[i])\n",
    "    bb[i]=max(b[i],bb[i+1])\n",
    "print b,bb"
   ]
  },
  {
   "cell_type": "code",
   "execution_count": null,
   "metadata": {},
   "outputs": [],
   "source": []
  }
 ],
 "metadata": {
  "kernelspec": {
   "display_name": "Python 2",
   "language": "python",
   "name": "python2"
  },
  "language_info": {
   "codemirror_mode": {
    "name": "ipython",
    "version": 2
   },
   "file_extension": ".py",
   "mimetype": "text/x-python",
   "name": "python",
   "nbconvert_exporter": "python",
   "pygments_lexer": "ipython2",
   "version": "2.7.15"
  }
 },
 "nbformat": 4,
 "nbformat_minor": 2
}
