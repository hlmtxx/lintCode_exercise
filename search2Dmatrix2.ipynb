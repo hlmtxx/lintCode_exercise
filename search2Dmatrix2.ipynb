{
 "cells": [
  {
   "cell_type": "code",
   "execution_count": 1,
   "metadata": {},
   "outputs": [
    {
     "data": {
      "text/plain": [
       "2"
      ]
     },
     "execution_count": 1,
     "metadata": {},
     "output_type": "execute_result"
    }
   ],
   "source": [
    "class solution():\n",
    "    def searchMatrix(self,matrix,target):\n",
    "        if matrix==[] or matrix[0]==[]:\n",
    "            return 0\n",
    "        m,n=len(matrix),len(matrix[0])\n",
    "        i,j=m-1,0\n",
    "        count=0\n",
    "        while i>=0 and j<n:\n",
    "            if matrix[i][j]==target:\n",
    "                count+=1\n",
    "                i-=1\n",
    "                j+=1\n",
    "            elif matrix[i][j]<target:\n",
    "                j+=1\n",
    "            else:\n",
    "                i-=1\n",
    "        return count\n",
    "\n",
    "example=solution()\n",
    "matrix=[\n",
    "    [1,3,4],\n",
    "    [2,4,5],\n",
    "    [3,5,6]\n",
    "]\n",
    "example.searchMatrix(matrix,3)"
   ]
  },
  {
   "cell_type": "code",
   "execution_count": null,
   "metadata": {},
   "outputs": [],
   "source": []
  }
 ],
 "metadata": {
  "kernelspec": {
   "display_name": "Python 2",
   "language": "python",
   "name": "python2"
  },
  "language_info": {
   "codemirror_mode": {
    "name": "ipython",
    "version": 2
   },
   "file_extension": ".py",
   "mimetype": "text/x-python",
   "name": "python",
   "nbconvert_exporter": "python",
   "pygments_lexer": "ipython2",
   "version": "2.7.15"
  }
 },
 "nbformat": 4,
 "nbformat_minor": 2
}
