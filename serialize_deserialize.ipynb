{
 "cells": [
  {
   "cell_type": "code",
   "execution_count": 4,
   "metadata": {},
   "outputs": [
    {
     "name": "stdout",
     "output_type": "stream",
     "text": [
      "1 2 3 4 5 # # # # # #\n"
     ]
    }
   ],
   "source": [
    "from collections import deque\n",
    "\n",
    "class TreeNode:\n",
    "    def __init__(self,val):\n",
    "        self.val=val\n",
    "        self.left, self.right=None, None\n",
    "root=TreeNode(1)\n",
    "a=TreeNode(2)\n",
    "b=TreeNode(3)\n",
    "c=TreeNode(4)\n",
    "d=TreeNode(5)\n",
    "root.left=a\n",
    "root.right=b\n",
    "a.left=c\n",
    "a.right=d\n",
    "class solution:\n",
    "    def serialize(self, root):\n",
    "        if root is None:\n",
    "            return \"\"\n",
    "        \n",
    "        #bfs\n",
    "        queue=deque([root])\n",
    "        bfs_order=[]\n",
    "        while queue:\n",
    "            node=queue.popleft()\n",
    "            bfs_order.append(str(node.val) if node else '#' )\n",
    "            if node:\n",
    "                queue.append(node.left)\n",
    "                queue.append(node.right)\n",
    "        return ' '.join(bfs_order)\n",
    "\n",
    "    def deserialize(self,data):\n",
    "        if not data:\n",
    "            return None\n",
    "        bfs_order=[TreeNode(int(val)) if val !='#' else None for val in data.split()]\n",
    "        root=bfs_order[0]\n",
    "        child=1\n",
    "       \n",
    "        nodes, parent= [root],0\n",
    "        while child<=len(nodes):\n",
    "            print child\n",
    "            node=nodes[parent]\n",
    "            parent+=1\n",
    "            node.left=bfs_order[child]\n",
    "            node.right=bfs_order[child+1]\n",
    "            child+=2\n",
    "            \n",
    "            if node.left:\n",
    "                nodes.append(node.left)\n",
    "            \n",
    "            if node.right:\n",
    "                nodes.append(node.right)\n",
    "        return root\n",
    "tree=solution()\n",
    "ans=tree.serialize(root)\n",
    "\n",
    "print ans"
   ]
  },
  {
   "cell_type": "code",
   "execution_count": null,
   "metadata": {},
   "outputs": [],
   "source": [
    "class TreeNode:\n",
    "    def __init__(self,val):\n",
    "        self.val=val\n",
    "        self.left, self.right=None, None\n",
    "        \n",
    "class Solution:\n",
    "\n",
    "    def serialize(self, root):\n",
    "        if not root: return ['#']\n",
    "        return [str(root.val)] + self.serialize(root.left) + self.serialize(root.right)\n",
    "    \n",
    "    def deserialize(self, data):\n",
    "        elem = data.pop(0)\n",
    "        if elem == '#': return None \n",
    "        root = TreeNode(int(elem))\n",
    "        root.left = self.deserialize(data)\n",
    "        root.right = self.deserialize(data)\n",
    "        return root"
   ]
  }
 ],
 "metadata": {
  "kernelspec": {
   "display_name": "Python 2",
   "language": "python",
   "name": "python2"
  },
  "language_info": {
   "codemirror_mode": {
    "name": "ipython",
    "version": 2
   },
   "file_extension": ".py",
   "mimetype": "text/x-python",
   "name": "python",
   "nbconvert_exporter": "python",
   "pygments_lexer": "ipython2",
   "version": "2.7.15"
  }
 },
 "nbformat": 4,
 "nbformat_minor": 2
}
