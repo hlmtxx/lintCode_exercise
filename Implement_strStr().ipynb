{
 "cells": [
  {
   "cell_type": "code",
   "execution_count": 4,
   "metadata": {},
   "outputs": [
    {
     "name": "stdout",
     "output_type": "stream",
     "text": [
      "6\n"
     ]
    }
   ],
   "source": [
    "class solution:\n",
    "    def strStr(self,source,target):\n",
    "        if source is None or target is None:\n",
    "            return -1\n",
    "        len_s=len(source)\n",
    "        len_t=len(target)\n",
    "        if len_s<len_t:\n",
    "            return -1\n",
    "        for i in range(len_s-len_t):\n",
    "            j=0\n",
    "            while(j<len_t):\n",
    "                if source[i+j] != target[j]:\n",
    "                    break\n",
    "                j+=1\n",
    "            if j==len_t:\n",
    "                return i\n",
    "        return -1\n",
    "example=solution()\n",
    "\n",
    "source='alksdjfhlaef'\n",
    "target='fhl'\n",
    "\n",
    "print example.strStr(source,target)"
   ]
  },
  {
   "cell_type": "code",
   "execution_count": 3,
   "metadata": {},
   "outputs": [
    {
     "name": "stdout",
     "output_type": "stream",
     "text": [
      "i 0\n",
      "j 0\n",
      "this is first loop\n",
      "i 1\n",
      "j 0\n",
      "this is first loop\n",
      "i 2\n",
      "j 0\n",
      "this is first loop\n",
      "i 3\n",
      "j 0\n",
      "this is first loop\n",
      "i 4\n",
      "j 0\n",
      "this is first loop\n"
     ]
    }
   ],
   "source": [
    "for i in range(5):\n",
    "    print 'i',i\n",
    "    \n",
    "    for j in range(2):\n",
    "        if j==1:\n",
    "            break\n",
    "        print 'j',j\n",
    "    print 'this is first loop'"
   ]
  },
  {
   "cell_type": "code",
   "execution_count": null,
   "metadata": {},
   "outputs": [],
   "source": []
  }
 ],
 "metadata": {
  "kernelspec": {
   "display_name": "Python 2",
   "language": "python",
   "name": "python2"
  },
  "language_info": {
   "codemirror_mode": {
    "name": "ipython",
    "version": 2
   },
   "file_extension": ".py",
   "mimetype": "text/x-python",
   "name": "python",
   "nbconvert_exporter": "python",
   "pygments_lexer": "ipython2",
   "version": "2.7.15"
  }
 },
 "nbformat": 4,
 "nbformat_minor": 2
}
