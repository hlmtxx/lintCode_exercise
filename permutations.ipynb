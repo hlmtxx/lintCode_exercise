{
 "cells": [
  {
   "cell_type": "code",
   "execution_count": null,
   "metadata": {},
   "outputs": [],
   "source": [
    "class solution:\n",
    "    def permute(self,nums):\n",
    "        def _permute(result,temp,nums):\n",
    "            if nums==[]:\n",
    "                result+=[temp]\n",
    "            else:\n",
    "                for i in range(len(nums)):\n",
    "                    \n",
    "                    _permute(result,temp+[nums[i]],nums[:i]+nums[i+1:])############\n",
    "        if nums is None:\n",
    "            return []\n",
    "        if nums is []: \n",
    "            return [[]]\n",
    "        result=[]\n",
    "        _permute(result,[],sorted(nums))\n",
    "        return result\n",
    "\n",
    "example=solution()\n",
    "nums=[1,2,3]\n",
    "print example.permute(nums)\n",
    "\n"
   ]
  },
  {
   "cell_type": "code",
   "execution_count": 2,
   "metadata": {},
   "outputs": [
    {
     "name": "stdout",
     "output_type": "stream",
     "text": [
      "[[1, 2, 3, 4], [1, 2, 4, 3], [1, 3, 2, 4], [1, 3, 4, 2], [1, 4, 2, 3], [1, 4, 3, 2], [2, 1, 3, 4], [2, 1, 4, 3], [2, 3, 1, 4], [2, 3, 4, 1], [2, 4, 1, 3], [2, 4, 3, 1], [3, 1, 2, 4], [3, 1, 4, 2], [3, 2, 1, 4], [3, 2, 4, 1], [3, 4, 1, 2], [3, 4, 2, 1], [4, 1, 2, 3], [4, 1, 3, 2], [4, 2, 1, 3], [4, 2, 3, 1], [4, 3, 1, 2], [4, 3, 2, 1]]\n"
     ]
    }
   ],
   "source": [
    "class solution:\n",
    "    def permute(self,nums):\n",
    "        if nums is None:\n",
    "            return []\n",
    "        if nums ==[]:\n",
    "            return [[]]\n",
    "        nums=sorted(nums)\n",
    "        permutation=[]\n",
    "        stack=[-1]\n",
    "        permutations=[]\n",
    "        while len(stack):\n",
    "            index=stack.pop()\n",
    "            index+=1\n",
    "            while index <len(nums):\n",
    "                if nums[index] not in permutation:\n",
    "                    break\n",
    "                index+=1\n",
    "            else:\n",
    "                if len(permutation):\n",
    "                    permutation.pop()\n",
    "                continue\n",
    "            stack.append(index)\n",
    "            stack.append(-1)\n",
    "            \n",
    "            permutation.append(nums[index])\n",
    "            \n",
    "            if len(permutation)==len(nums):\n",
    "                permutations.append(list(permutation))\n",
    "        return permutations\n",
    "example=solution()\n",
    "nums=[1,2,3,4]\n",
    "print example.permute(nums)"
   ]
  },
  {
   "cell_type": "code",
   "execution_count": null,
   "metadata": {},
   "outputs": [],
   "source": [
    "a=-10\n",
    "for i in range(3):\n",
    "    \n",
    "    while a<3:\n",
    "        a+=1\n",
    "        print a\n",
    "    else:\n",
    "        if a>-1:\n",
    "            print 'a'\n",
    "    #continue\n",
    "    print i"
   ]
  },
  {
   "cell_type": "code",
   "execution_count": null,
   "metadata": {},
   "outputs": [],
   "source": []
  }
 ],
 "metadata": {
  "kernelspec": {
   "display_name": "Python 2",
   "language": "python",
   "name": "python2"
  },
  "language_info": {
   "codemirror_mode": {
    "name": "ipython",
    "version": 2
   },
   "file_extension": ".py",
   "mimetype": "text/x-python",
   "name": "python",
   "nbconvert_exporter": "python",
   "pygments_lexer": "ipython2",
   "version": "2.7.15"
  }
 },
 "nbformat": 4,
 "nbformat_minor": 2
}
