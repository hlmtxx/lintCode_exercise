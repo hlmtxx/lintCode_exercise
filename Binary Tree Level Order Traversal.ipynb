{
 "cells": [
  {
   "cell_type": "code",
   "execution_count": null,
   "metadata": {},
   "outputs": [],
   "source": [
    "#Given a binary tree, return the level order traversal of its nodes' values. (ie, from left to right, level by level).\n",
    "#The first data is the root node, followed by the value of the left and right son nodes, and \"#\" indicates that there is no child node.\n",
    "#The number of nodes does not exceed 20.\n",
    "\n",
    "from collections import deque\n",
    "\n",
    "class TreeNode:\n",
    "    def __init__(self,val):\n",
    "        self.val=val\n",
    "        self.left,self.right=None,None\n",
    "        \n",
    "class solution:\n",
    "    \n",
    "    def BFS(self,root):\n",
    "        if root is None:\n",
    "            return []\n",
    "        queue=deque([root])"
   ]
  },
  {
   "cell_type": "code",
   "execution_count": 6,
   "metadata": {},
   "outputs": [
    {
     "name": "stdout",
     "output_type": "stream",
     "text": [
      "deque(['a', 's', 'd', 'a', 's', 'd', 'a', 's'])\n"
     ]
    }
   ],
   "source": [
    "from collections import deque\n",
    "\n",
    "queue=deque(\"asdasdas\")\n",
    "print queue"
   ]
  },
  {
   "cell_type": "code",
   "execution_count": null,
   "metadata": {},
   "outputs": [],
   "source": []
  }
 ],
 "metadata": {
  "kernelspec": {
   "display_name": "Python 2",
   "language": "python",
   "name": "python2"
  },
  "language_info": {
   "codemirror_mode": {
    "name": "ipython",
    "version": 2
   },
   "file_extension": ".py",
   "mimetype": "text/x-python",
   "name": "python",
   "nbconvert_exporter": "python",
   "pygments_lexer": "ipython2",
   "version": "2.7.15"
  }
 },
 "nbformat": 4,
 "nbformat_minor": 2
}
