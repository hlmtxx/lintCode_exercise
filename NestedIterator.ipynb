{
 "cells": [
  {
   "cell_type": "code",
   "execution_count": 5,
   "metadata": {},
   "outputs": [
    {
     "ename": "IndentationError",
     "evalue": "expected an indented block (<ipython-input-5-77fe7cd208e2>, line 6)",
     "output_type": "error",
     "traceback": [
      "\u001b[1;36m  File \u001b[1;32m\"<ipython-input-5-77fe7cd208e2>\"\u001b[1;36m, line \u001b[1;32m6\u001b[0m\n\u001b[1;33m    def getInteger(self):\u001b[0m\n\u001b[1;37m      ^\u001b[0m\n\u001b[1;31mIndentationError\u001b[0m\u001b[1;31m:\u001b[0m expected an indented block\n"
     ]
    }
   ],
   "source": [
    "class NestedInteger(object):\n",
    "    def isInteger(self):\n",
    "        # @return {boolean} True if this NestedInteger holds a single integer,\n",
    "        # rather than a nested list.\n",
    "\n",
    "    def getInteger(self):\n",
    "        # @return {int} the single integer that this NestedInteger holds,\n",
    "        # if it holds a single integer\n",
    "        # Return None if this NestedInteger holds a nested list\n",
    "\n",
    "    def getList(self):\n",
    "        # @return {NestedInteger[]} the nested list that this NestedInteger holds,\n",
    "        # if it holds a nested list\n",
    "        # Return None if this NestedInteger holds a single integer\n",
    "class solution:\n",
    "    def __init__(self,nestedList):\n",
    "        self.next_elem =None\n",
    "        self.stack=[]\n",
    "        for elem in reversed(nestdList):\n",
    "            self.stack.append(elem)\n",
    "    \n",
    "    def next(self):\n",
    "        if self.next_elem is None:\n",
    "            self.hashNext()\n",
    "            temp, self.next_elem=self.next_elem, None\n",
    "        return temp\n",
    "    \n",
    "    def hasNext(self):\n",
    "        \n",
    "        if self.next_elem:\n",
    "            return True\n",
    "        \n",
    "        while self.stack:\n",
    "            top=self.stack.pop()\n",
    "            if top.isInteger():\n",
    "                self.next_elem=top.getInteger()\n",
    "                return True\n",
    "            for elem in reversed(top.getList()):\n",
    "                self.stack.append(elem)\n",
    "        return False\n",
    "    \n",
    "# i, v = NestedIterator(nestedList), []\n",
    "# while i.hasNext(): v.append(i.next())    "
   ]
  },
  {
   "cell_type": "code",
   "execution_count": 4,
   "metadata": {},
   "outputs": [
    {
     "ename": "AttributeError",
     "evalue": "'list' object has no attribute 'isInteger'",
     "output_type": "error",
     "traceback": [
      "\u001b[1;31m---------------------------------------------------------------------------\u001b[0m",
      "\u001b[1;31mAttributeError\u001b[0m                            Traceback (most recent call last)",
      "\u001b[1;32m<ipython-input-4-9ac1ab2add50>\u001b[0m in \u001b[0;36m<module>\u001b[1;34m()\u001b[0m\n\u001b[0;32m      3\u001b[0m \u001b[1;32mwhile\u001b[0m \u001b[0ma\u001b[0m\u001b[1;33m:\u001b[0m\u001b[1;33m\u001b[0m\u001b[0m\n\u001b[0;32m      4\u001b[0m     \u001b[0mtop\u001b[0m\u001b[1;33m=\u001b[0m\u001b[0ma\u001b[0m\u001b[1;33m.\u001b[0m\u001b[0mpop\u001b[0m\u001b[1;33m(\u001b[0m\u001b[1;33m)\u001b[0m\u001b[1;33m\u001b[0m\u001b[0m\n\u001b[1;32m----> 5\u001b[1;33m     \u001b[1;32mif\u001b[0m \u001b[0mtop\u001b[0m\u001b[1;33m.\u001b[0m\u001b[0misInteger\u001b[0m\u001b[1;33m(\u001b[0m\u001b[1;33m)\u001b[0m\u001b[1;33m:\u001b[0m\u001b[1;33m\u001b[0m\u001b[0m\n\u001b[0m\u001b[0;32m      6\u001b[0m \u001b[1;33m\u001b[0m\u001b[0m\n\u001b[0;32m      7\u001b[0m         \u001b[1;32mprint\u001b[0m \u001b[1;34m'整数:'\u001b[0m\u001b[1;33m,\u001b[0m \u001b[0mtop\u001b[0m\u001b[1;33m.\u001b[0m\u001b[0mgetInteger\u001b[0m\u001b[1;33m\u001b[0m\u001b[0m\n",
      "\u001b[1;31mAttributeError\u001b[0m: 'list' object has no attribute 'isInteger'"
     ]
    }
   ],
   "source": [
    "a=[1,2,3,[3,4]]\n",
    "\n",
    "while a:\n",
    "    top=a.pop()\n",
    "    if top.isInteger():\n",
    "        \n",
    "        print '整数:', top.getInteger\n",
    "        \n",
    "    else: \n",
    "        b=top.getList()\n",
    "        print b\n",
    "        \n",
    "        "
   ]
  },
  {
   "cell_type": "code",
   "execution_count": null,
   "metadata": {},
   "outputs": [],
   "source": []
  }
 ],
 "metadata": {
  "kernelspec": {
   "display_name": "Python 2",
   "language": "python",
   "name": "python2"
  },
  "language_info": {
   "codemirror_mode": {
    "name": "ipython",
    "version": 2
   },
   "file_extension": ".py",
   "mimetype": "text/x-python",
   "name": "python",
   "nbconvert_exporter": "python",
   "pygments_lexer": "ipython2",
   "version": "2.7.15"
  }
 },
 "nbformat": 4,
 "nbformat_minor": 2
}
