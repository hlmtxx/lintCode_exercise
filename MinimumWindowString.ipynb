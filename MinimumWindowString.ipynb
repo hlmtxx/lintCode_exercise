{
 "cells": [
  {
   "cell_type": "code",
   "execution_count": 3,
   "metadata": {},
   "outputs": [
    {
     "data": {
      "text/plain": [
       "'abbc'"
      ]
     },
     "execution_count": 3,
     "metadata": {},
     "output_type": "execute_result"
    }
   ],
   "source": [
    "class solution:\n",
    "    #确定target里面每个字符出现的次数\n",
    "    def getTargetHash(self,target):\n",
    "        Hash={}\n",
    "        for c in target:\n",
    "            Hash[c]=Hash.get(c,0)+1\n",
    "        return Hash\n",
    "    \n",
    "    def minWindow(self,source,target):\n",
    "        if source is None:\n",
    "            return \"\"\n",
    "        targetHash=self.getTargetHash(target)\n",
    "        targetUniqueChars=len(targetHash)\n",
    "        matchedUniqueChars=0\n",
    "        \n",
    "        Hash={}\n",
    "        n=len(source)\n",
    "        j=0\n",
    "        minLength=n+1\n",
    "        minWindowsString=\"\"\n",
    "        for i in range(n):\n",
    "            while j<n and matchedUniqueChars < targetUniqueChars:\n",
    "                if source[j] in targetHash:\n",
    "                    Hash[source[j]]=Hash.get(source[j],0)+1\n",
    "                    if Hash[source[j]]==targetHash[source[j]]:\n",
    "                        matchedUniqueChars+=1\n",
    "                j+=1\n",
    "            \n",
    "            if j-i<minLength and matchedUniqueChars==targetUniqueChars:\n",
    "                minLength=j-i\n",
    "                minWindowString=source[i:j]\n",
    "                \n",
    "            if source[i] in targetHash:\n",
    "                if Hash[source[i]]==targetHash[source[i]]:##\n",
    "                    matchedUniqueChars-=1                 ##如果第i个字符出现的次数和target吻合，那么下一次循环匹配的字符数要减一\n",
    "                Hash[source[i]]-=1\n",
    "        return minWindowString\n",
    "example=solution()\n",
    "source='aabbcc'\n",
    "target='abc'\n",
    "example.minWindow(source,target)"
   ]
  },
  {
   "cell_type": "code",
   "execution_count": 2,
   "metadata": {},
   "outputs": [
    {
     "data": {
      "text/plain": [
       "{'1': 1}"
      ]
     },
     "execution_count": 2,
     "metadata": {},
     "output_type": "execute_result"
    }
   ],
   "source": [
    "hash={}\n",
    "hash['1']=1\n",
    "hash"
   ]
  },
  {
   "cell_type": "code",
   "execution_count": null,
   "metadata": {},
   "outputs": [],
   "source": []
  }
 ],
 "metadata": {
  "kernelspec": {
   "display_name": "Python 2",
   "language": "python",
   "name": "python2"
  },
  "language_info": {
   "codemirror_mode": {
    "name": "ipython",
    "version": 2
   },
   "file_extension": ".py",
   "mimetype": "text/x-python",
   "name": "python",
   "nbconvert_exporter": "python",
   "pygments_lexer": "ipython2",
   "version": "2.7.15"
  }
 },
 "nbformat": 4,
 "nbformat_minor": 2
}
