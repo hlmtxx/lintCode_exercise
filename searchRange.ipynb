{
 "cells": [
  {
   "cell_type": "code",
   "execution_count": 27,
   "metadata": {},
   "outputs": [
    {
     "name": "stdout",
     "output_type": "stream",
     "text": [
      "[12, 20]\n"
     ]
    }
   ],
   "source": [
    "class TreeNode:\n",
    "    def __init__(self,val):\n",
    "        self.val=val\n",
    "        self.left,self.right=None, None\n",
    "\n",
    "class solution:\n",
    "    \n",
    "    def searchRange(self,root,k1,k2):\n",
    "        ans=[]\n",
    "        if not root:\n",
    "            \n",
    "            return ans\n",
    "        queue=[root]\n",
    "        index=0\n",
    "        while index<len(queue):\n",
    "            if  queue[index]:\n",
    "                if queue[index].val>=k1 and queue[index].val<=k2:\n",
    "                    \n",
    "                    ans.append(queue[index].val)\n",
    "                    \n",
    "                queue.append(queue[index].left)\n",
    "                queue.append(queue[index].right)\n",
    "            index+=1\n",
    "        ans.sort()\n",
    "        return ans\n",
    "\n",
    "root=TreeNode(20)\n",
    "a=TreeNode(8)\n",
    "b=TreeNode(22)\n",
    "c=TreeNode(4)\n",
    "d=TreeNode(12)\n",
    "root.left=a\n",
    "root.right=b\n",
    "a.left=c\n",
    "a.right=d\n",
    "k1=10\n",
    "k2=20\n",
    "\n",
    "example=solution()\n",
    "print example.searchRange(root,k1,k2)\n",
    " "
   ]
  },
  {
   "cell_type": "code",
   "execution_count": 26,
   "metadata": {},
   "outputs": [
    {
     "name": "stdout",
     "output_type": "stream",
     "text": [
      "[12, 20]\n"
     ]
    }
   ],
   "source": [
    "   \n",
    "ans=[20,12]\n",
    "ans.sort()\n",
    "print ans\n",
    "\n"
   ]
  },
  {
   "cell_type": "code",
   "execution_count": null,
   "metadata": {},
   "outputs": [],
   "source": []
  }
 ],
 "metadata": {
  "kernelspec": {
   "display_name": "Python 2",
   "language": "python",
   "name": "python2"
  },
  "language_info": {
   "codemirror_mode": {
    "name": "ipython",
    "version": 2
   },
   "file_extension": ".py",
   "mimetype": "text/x-python",
   "name": "python",
   "nbconvert_exporter": "python",
   "pygments_lexer": "ipython2",
   "version": "2.7.15"
  }
 },
 "nbformat": 4,
 "nbformat_minor": 2
}
