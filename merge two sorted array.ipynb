{
 "cells": [
  {
   "cell_type": "code",
   "execution_count": 10,
   "metadata": {},
   "outputs": [
    {
     "name": "stdout",
     "output_type": "stream",
     "text": [
      "i 1\n",
      "i 2\n",
      "j 1\n",
      "j 2\n",
      "j 3\n",
      "j 4\n",
      "j 5\n",
      "j 6\n",
      "j 7\n",
      "j 8\n",
      "i 3\n",
      "[1, 2, 4, 5, 6, 6, 7, 8, 9, 10, 33]\n"
     ]
    }
   ],
   "source": [
    "def mergeSortedArray(A,B):\n",
    "    i,j=0,0\n",
    "    c=[]\n",
    "    while i<len(A) and j<len(B):\n",
    "        if A[i]<B[j]:\n",
    "            c.append(A[i])\n",
    "            i+=1\n",
    "            print \"i\", i\n",
    "        else: \n",
    "            c.append(B[j])\n",
    "            j+=1\n",
    "            print \"j\",j\n",
    "    while i<len(A):\n",
    "        c.append(A[i])\n",
    "        i+=1\n",
    "        print \"i\",i\n",
    "    while j<len(B):\n",
    "        c.append(B[j])\n",
    "        j+=1\n",
    "        print \"j\",j\n",
    "    return c\n",
    "\n",
    "A=[1,2,33]\n",
    "\n",
    "B=[4,5,6,6,7,8,9,10]\n",
    "\n",
    "c=mergeSortedArray(A,B)\n",
    "\n",
    "print c\n",
    "        "
   ]
  },
  {
   "cell_type": "code",
   "execution_count": null,
   "metadata": {},
   "outputs": [],
   "source": []
  }
 ],
 "metadata": {
  "kernelspec": {
   "display_name": "Python 2",
   "language": "python",
   "name": "python2"
  },
  "language_info": {
   "codemirror_mode": {
    "name": "ipython",
    "version": 2
   },
   "file_extension": ".py",
   "mimetype": "text/x-python",
   "name": "python",
   "nbconvert_exporter": "python",
   "pygments_lexer": "ipython2",
   "version": "2.7.15"
  }
 },
 "nbformat": 4,
 "nbformat_minor": 2
}
