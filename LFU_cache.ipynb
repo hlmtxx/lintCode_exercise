{
 "cells": [
  {
   "cell_type": "code",
   "execution_count": 3,
   "metadata": {},
   "outputs": [
    {
     "name": "stdout",
     "output_type": "stream",
     "text": [
      "defaultdict(<class 'collections.OrderedDict'>, {1: set([3, 12]), 2: set([45, 23])})\n"
     ]
    }
   ],
   "source": [
    "from collections import OrderedDict\n",
    "from collections import defaultdict\n",
    "d=defaultdict(OrderedDict)\n",
    "d[1]={12,3}\n",
    "d[2]={23,45}\n",
    "\n",
    "print d\n",
    "#字典本身是无序的，只是一种散列算法\n"
   ]
  },
  {
   "cell_type": "code",
   "execution_count": 60,
   "metadata": {},
   "outputs": [
    {
     "data": {
      "text/plain": [
       "1"
      ]
     },
     "execution_count": 60,
     "metadata": {},
     "output_type": "execute_result"
    }
   ],
   "source": [
    "\n",
    "from collections import OrderedDict\n",
    "from collections import defaultdict\n",
    "class LFUCache:\n",
    "    \"\"\"\n",
    "    @param: capacity: An integer\n",
    "    \"\"\"\n",
    "    def __init__(self, capacity):\n",
    "        # do intialization if necessary\n",
    "        self.mincount = 0\n",
    "        self.capacity = capacity\n",
    "        self.cache = {}\n",
    "        self.visited = {}\n",
    "        self.key_list = defaultdict(OrderedDict)\n",
    "        #默认字典嵌套一个有序字典，外层字典的键是访问次数，有序字典会根据放入元素的先后顺序进行排序        \n",
    " \n",
    "    \"\"\"\n",
    "    @param: key: An integer\n",
    "    @param: value: An integer\n",
    "    @return: nothing\n",
    "    \"\"\"\n",
    "    def set(self, key, value):\n",
    "        # write your code here\n",
    "        #如果该key已经存在，修改value并且次数+1\n",
    "        if key in self.cache:\n",
    "            self.cache[key] = value\n",
    "            self.get(key)\n",
    "            return\n",
    "        \n",
    "        #如果缓存满了，则删除最少访问次数\n",
    "        if len(self.cache) == self.capacity:\n",
    "            #找到最小访问次数\n",
    "            temp_key, tmep_val = next(iter(self.key_list[self.mincount].items()))\n",
    "                \n",
    "            # min_visit = min(self.visited, key=lambda x: self.visited[x])\n",
    "            del self.cache[temp_key]\n",
    "            del self.visited[temp_key]\n",
    "            del self.key_list[self.mincount][temp_key]\n",
    "            \n",
    "            self.cache[key] = value\n",
    "            self.visited[key] = 0\n",
    "        \n",
    "        #添加时默认都是1，所以都放在访问次数为1的层中\n",
    "        self.mincount = 1\n",
    "        self.cache[key] = value\n",
    "        self.visited[key] = 1\n",
    "        #对记录字典进行赋值{1：{key:none, key1:none}}\n",
    "        self.key_list[1][key] = None ################\n",
    " \n",
    "    \"\"\"\n",
    "    @param: key: An integer\n",
    "    @return: An integer\n",
    "    \"\"\"\n",
    "    def get(self, key):\n",
    "        # write your code here\n",
    "        if key not in self.cache:\n",
    "            return -1\n",
    "        \n",
    "        #取出该key的访问次数\n",
    "        count = self.visited[key]\n",
    "        #对访问次数进行+1\n",
    "        self.visited[key] += 1\n",
    "        #对记录字典进行更新\n",
    "        self.key_list[count].pop(key)\n",
    "        self.key_list[count+1][key] = None\n",
    "        \n",
    "        #如果访问次数等于最小访问次数，并且该次数下已经没有值了，则最小访问次数+1，为下次加入做准备\n",
    "        if count == self.mincount and len(self.key_list[count]) == 0:\n",
    "            self.mincount += 1\n",
    "        \n",
    "        return self.cache[key]\n",
    "\n",
    "lfu=LFUCache(3)\n",
    "lfu.set(2,2)\n",
    "lfu.set(1,1)\n",
    "lfu.get(2)\n",
    "lfu.get(1)\n",
    "lfu.get(2)\n",
    "lfu.set(3,3)\n",
    "lfu.set(4,4)\n",
    "lfu.get(3)\n",
    "lfu.get(2)\n",
    "lfu.get(1)\n",
    "lfu.get(4)"
   ]
  },
  {
   "cell_type": "code",
   "execution_count": null,
   "metadata": {},
   "outputs": [],
   "source": []
  }
 ],
 "metadata": {
  "kernelspec": {
   "display_name": "Python 2",
   "language": "python",
   "name": "python2"
  },
  "language_info": {
   "codemirror_mode": {
    "name": "ipython",
    "version": 2
   },
   "file_extension": ".py",
   "mimetype": "text/x-python",
   "name": "python",
   "nbconvert_exporter": "python",
   "pygments_lexer": "ipython2",
   "version": "2.7.15"
  }
 },
 "nbformat": 4,
 "nbformat_minor": 2
}
