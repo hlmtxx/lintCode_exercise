{
 "cells": [
  {
   "cell_type": "code",
   "execution_count": null,
   "metadata": {},
   "outputs": [],
   "source": [
    "class solution:\n",
    "    def partirion(self,nums,k):\n",
    "        index=-1\n",
    "        lenth=len(nums)\n",
    "        for i in range(lenth):\n",
    "            if nums[i]<k:\n",
    "                index+=1\n",
    "                nums[i],nums[index]=nums[index],nums[i]\n",
    "        return index+1"
   ]
  }
 ],
 "metadata": {
  "kernelspec": {
   "display_name": "Python 2",
   "language": "python",
   "name": "python2"
  },
  "language_info": {
   "codemirror_mode": {
    "name": "ipython",
    "version": 2
   },
   "file_extension": ".py",
   "mimetype": "text/x-python",
   "name": "python",
   "nbconvert_exporter": "python",
   "pygments_lexer": "ipython2",
   "version": "2.7.15"
  }
 },
 "nbformat": 4,
 "nbformat_minor": 2
}
