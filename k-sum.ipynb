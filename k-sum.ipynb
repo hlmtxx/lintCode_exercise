{
 "cells": [
  {
   "cell_type": "code",
   "execution_count": 4,
   "metadata": {},
   "outputs": [
    {
     "name": "stdout",
     "output_type": "stream",
     "text": [
      "[[1, 4], [2, 3]]\n"
     ]
    }
   ],
   "source": [
    "class solution():\n",
    "    def Ksum(self,A,k,target):\n",
    "        A=sorted(A)\n",
    "        subsets=[]\n",
    "        self.dfs(A,0,k,target,[],subsets)\n",
    "        return subsets\n",
    "    def dfs(self,A,index,k,target,subset,subsets):\n",
    "        if k==0 and target==0:\n",
    "            subsets.append(list(subset))\n",
    "            return\n",
    "        if k==0 or target<=0:\n",
    "            return\n",
    "        \n",
    "        for i in xrange(index,len(A)):\n",
    "            subset.append(A[i])\n",
    "            self.dfs(A,i+1,k-1,target-A[i],subset,subsets)\n",
    "            subset.pop()\n",
    "example=solution()\n",
    "A=[1,2,3,4]\n",
    "k = 2\n",
    "target = 5\n",
    "print example.Ksum(A,k,target)"
   ]
  },
  {
   "cell_type": "code",
   "execution_count": null,
   "metadata": {},
   "outputs": [],
   "source": []
  }
 ],
 "metadata": {
  "kernelspec": {
   "display_name": "Python 2",
   "language": "python",
   "name": "python2"
  },
  "language_info": {
   "codemirror_mode": {
    "name": "ipython",
    "version": 2
   },
   "file_extension": ".py",
   "mimetype": "text/x-python",
   "name": "python",
   "nbconvert_exporter": "python",
   "pygments_lexer": "ipython2",
   "version": "2.7.15"
  }
 },
 "nbformat": 4,
 "nbformat_minor": 2
}
