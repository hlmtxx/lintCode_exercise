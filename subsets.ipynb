{
 "cells": [
  {
   "cell_type": "code",
   "execution_count": 5,
   "metadata": {},
   "outputs": [
    {
     "name": "stdout",
     "output_type": "stream",
     "text": [
      "2\n"
     ]
    }
   ],
   "source": [
    "class solution:\n",
    "    \n",
    "    def subsets(self,nums):\n",
    "        nums=sorted(nums)\n",
    "        combinations=[]\n",
    "        self.dfs(nums,0,[],combinations)\n",
    "        return combinations \n",
    "    \n",
    "    def dfs(self, nums,index, combination,combinations):\n",
    "        combinations.append(list(combination))\n",
    "        \n",
    "        for i in range(index, len(nums)):\n",
    "            combination.append(nums[i])\n",
    "            self.dfs(nums,i+1,combination,combinations)\n",
    "            combination.pop()\n",
    "        \n",
    "        "
   ]
  },
  {
   "cell_type": "code",
   "execution_count": null,
   "metadata": {},
   "outputs": [],
   "source": []
  }
 ],
 "metadata": {
  "kernelspec": {
   "display_name": "Python 2",
   "language": "python",
   "name": "python2"
  },
  "language_info": {
   "codemirror_mode": {
    "name": "ipython",
    "version": 2
   },
   "file_extension": ".py",
   "mimetype": "text/x-python",
   "name": "python",
   "nbconvert_exporter": "python",
   "pygments_lexer": "ipython2",
   "version": "2.7.15"
  }
 },
 "nbformat": 4,
 "nbformat_minor": 2
}
