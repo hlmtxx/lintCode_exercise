{
 "cells": [
  {
   "cell_type": "code",
   "execution_count": 3,
   "metadata": {},
   "outputs": [
    {
     "name": "stdout",
     "output_type": "stream",
     "text": [
      "[3, 4, 5, 6, 7]\n"
     ]
    }
   ],
   "source": [
    "class TreeNode:\n",
    "    def __init__(self,val):\n",
    "        self.val=val\n",
    "        self.left,self.right=None, None\n",
    "        \n",
    "class solution:\n",
    "    def BuildTree(self,inorder, postorder):\n",
    "        if not inorder:\n",
    "            return None\n",
    "        root=TreeNode(postorder[-1])\n",
    "        index=inorder.index(postoder[-1])\n",
    "        root.left=self.BuildTree(inorder[:index],postorder[:index])\n",
    "        root.right=self.BuildTree(inorder[index+1:],postorder[index,-1])\n",
    "        return root\n",
    "\n",
    "\n"
   ]
  },
  {
   "cell_type": "code",
   "execution_count": null,
   "metadata": {},
   "outputs": [],
   "source": []
  }
 ],
 "metadata": {
  "kernelspec": {
   "display_name": "Python 2",
   "language": "python",
   "name": "python2"
  },
  "language_info": {
   "codemirror_mode": {
    "name": "ipython",
    "version": 2
   },
   "file_extension": ".py",
   "mimetype": "text/x-python",
   "name": "python",
   "nbconvert_exporter": "python",
   "pygments_lexer": "ipython2",
   "version": "2.7.15"
  }
 },
 "nbformat": 4,
 "nbformat_minor": 2
}
