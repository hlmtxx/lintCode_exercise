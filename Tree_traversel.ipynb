{
 "cells": [
  {
   "cell_type": "code",
   "execution_count": 2,
   "metadata": {},
   "outputs": [
    {
     "name": "stdout",
     "output_type": "stream",
     "text": [
      "[[1], [2, 3], [4, 5, 6, 7]]\n"
     ]
    }
   ],
   "source": [
    "from collections import deque\n",
    "\n",
    "class TreeNode:\n",
    "    def __init__(self,val):\n",
    "        self.val=val\n",
    "        self.left, self.right=None,None\n",
    "\n",
    "class Traversel:\n",
    "    \n",
    "    def PreorderTraversel(self, root):\n",
    "        if (root!= None):\n",
    "            print root.val\n",
    "            self.PreorderTraversel(root.left)\n",
    "            self.PreorderTraversel(root.right)\n",
    "            \n",
    "    def inorderTraversel(self, root):\n",
    "        if (root!= None):\n",
    "            self.inorderTraversel(root.left)\n",
    "            print root.val\n",
    "            self.inorderTraversel(root.right)\n",
    "    \n",
    "    def postorderTraversel(self, root):\n",
    "        if (root!= None):\n",
    "            self.postorderTraversel(root.left)\n",
    "            self.postorderTraversel(root.right)\n",
    "            print root.val\n",
    "    \n",
    "    def levelorderTraversel(self, root):\n",
    "        if root is None:\n",
    "            return []\n",
    "        queue=deque([root])\n",
    "        result=[]\n",
    "        while queue:\n",
    "            level=[]\n",
    "            for _ in range(len(queue)):\n",
    "                node=queue.popleft()\n",
    "                level.append(node.val)\n",
    "                if node.left:\n",
    "                    queue.append(node.left)\n",
    "                if node.right:\n",
    "                    queue.append(node.right)\n",
    "            result.append(level)\n",
    "        return result\n",
    "a=TreeNode(1)\n",
    "b=TreeNode(2)\n",
    "c=TreeNode(3)\n",
    "d=TreeNode(4)\n",
    "e=TreeNode(5)\n",
    "f=TreeNode(6)\n",
    "g=TreeNode(7)\n",
    "a.left=b\n",
    "a.right=c\n",
    "b.left=d\n",
    "b.right=e\n",
    "c.left=f\n",
    "c.right=g\n",
    "travel=Traversel()\n",
    "print travel.levelorderTraversel(a)"
   ]
  },
  {
   "cell_type": "code",
   "execution_count": 1,
   "metadata": {},
   "outputs": [
    {
     "name": "stdout",
     "output_type": "stream",
     "text": [
      "4\n",
      "4\n"
     ]
    }
   ],
   "source": [
    "for _ in range(2):\n",
    "    print  '4'"
   ]
  },
  {
   "cell_type": "code",
   "execution_count": 2,
   "metadata": {},
   "outputs": [],
   "source": []
  },
  {
   "cell_type": "code",
   "execution_count": null,
   "metadata": {},
   "outputs": [],
   "source": []
  }
 ],
 "metadata": {
  "kernelspec": {
   "display_name": "Python 2",
   "language": "python",
   "name": "python2"
  },
  "language_info": {
   "codemirror_mode": {
    "name": "ipython",
    "version": 2
   },
   "file_extension": ".py",
   "mimetype": "text/x-python",
   "name": "python",
   "nbconvert_exporter": "python",
   "pygments_lexer": "ipython2",
   "version": "2.7.15"
  }
 },
 "nbformat": 4,
 "nbformat_minor": 2
}
