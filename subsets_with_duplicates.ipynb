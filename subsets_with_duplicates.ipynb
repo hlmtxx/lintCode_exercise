{
 "cells": [
  {
   "cell_type": "code",
   "execution_count": null,
   "metadata": {},
   "outputs": [],
   "source": [
    "class solution:\n",
    "    def subsetsWithDup(self,nums):\n",
    "        nums=sorted(nums)\n",
    "        subsets=[]\n",
    "        self.dfs(nums,0,[],subsets)\n",
    "        return subsets\n",
    "    \n",
    "    def dfs(self,nums,index,subset,subsets):\n",
    "        substes.append(list(subset))\n",
    "        \n",
    "        for i in range(index,len(nums)):\n",
    "            if i>index and nums[i]==nums[i-1]:\n",
    "                continue\n",
    "            subset.append(nums[i])\n",
    "            self.dfs(nums,i+1,subset,subsets)\n",
    "            subset.pop()"
   ]
  }
 ],
 "metadata": {
  "kernelspec": {
   "display_name": "Python 2",
   "language": "python",
   "name": "python2"
  },
  "language_info": {
   "codemirror_mode": {
    "name": "ipython",
    "version": 2
   },
   "file_extension": ".py",
   "mimetype": "text/x-python",
   "name": "python",
   "nbconvert_exporter": "python",
   "pygments_lexer": "ipython2",
   "version": "2.7.15"
  }
 },
 "nbformat": 4,
 "nbformat_minor": 2
}
