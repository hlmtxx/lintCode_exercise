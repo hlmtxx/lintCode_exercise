{
 "cells": [
  {
   "cell_type": "code",
   "execution_count": 3,
   "metadata": {},
   "outputs": [
    {
     "name": "stdout",
     "output_type": "stream",
     "text": [
      "<type 'list'>\n",
      "3\n"
     ]
    }
   ],
   "source": [
    "class Solution(object):\n",
    "    def twoSum(self, nums, target):\n",
    "        \"\"\"\n",
    "        :type nums: List[int]\n",
    "        :type target: int\n",
    "        :rtype: List[int]\n",
    "        \"\"\"\n",
    "        lenth=len(nums)\n",
    "        for i in range(lenth-1):\n",
    "            for j in range(i+1,lenth):\n",
    "                if (nums[i]+nums[j])==target:\n",
    "                    return [i,j]\n",
    "        return False"
   ]
  },
  {
   "cell_type": "code",
   "execution_count": 10,
   "metadata": {},
   "outputs": [
    {
     "name": "stdout",
     "output_type": "stream",
     "text": [
      "1\n",
      "[0, 1]\n"
     ]
    }
   ],
   "source": [
    "nums=[4,4,11,15]\n",
    "target=8\n",
    "new_nums=nums[:]\n",
    "for num in nums:\n",
    "    new_nums.remove(num)\n",
    "    if (target-num) in new_nums:\n",
    "        if (target-num)==num:\n",
    "            \n",
    "            print [i for i,x in enumerate(nums) if x==num]\n",
    "            break\n",
    "        else:\n",
    "            \n",
    "            print [nums.index(num),nums.index(target-num)]\n",
    "            break\n",
    "    new_nums=nums[:]"
   ]
  },
  {
   "cell_type": "code",
   "execution_count": 1,
   "metadata": {},
   "outputs": [
    {
     "name": "stdout",
     "output_type": "stream",
     "text": [
      "0\n",
      "1\n",
      "2\n",
      "3\n",
      "4\n"
     ]
    }
   ],
   "source": [
    "def test(a):\n",
    "    if a>4:\n",
    "        return\n",
    "    else:\n",
    "        print a\n",
    "    a+=1\n",
    "    test(a)\n",
    "test(0)    "
   ]
  },
  {
   "cell_type": "code",
   "execution_count": null,
   "metadata": {},
   "outputs": [],
   "source": []
  }
 ],
 "metadata": {
  "kernelspec": {
   "display_name": "Python 2",
   "language": "python",
   "name": "python2"
  },
  "language_info": {
   "codemirror_mode": {
    "name": "ipython",
    "version": 2
   },
   "file_extension": ".py",
   "mimetype": "text/x-python",
   "name": "python",
   "nbconvert_exporter": "python",
   "pygments_lexer": "ipython2",
   "version": "2.7.15"
  }
 },
 "nbformat": 4,
 "nbformat_minor": 2
}
