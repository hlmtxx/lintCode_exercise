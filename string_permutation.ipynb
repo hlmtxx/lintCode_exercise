{
 "cells": [
  {
   "cell_type": "code",
   "execution_count": 23,
   "metadata": {},
   "outputs": [
    {
     "name": "stdout",
     "output_type": "stream",
     "text": [
      "True\n"
     ]
    }
   ],
   "source": [
    "class solution:\n",
    "    \n",
    "    def permuation(self,A,B):\n",
    "        dict1={}\n",
    "        for i in A:\n",
    "            if i not in dict1:\n",
    "                dict1[i]=1\n",
    "            else: \n",
    "                dict1[i]+=1\n",
    "        for i in B:\n",
    "            if i not in dict1:\n",
    "                return False\n",
    "            else:\n",
    "                dict1[i]-=1\n",
    "        for val in dict1.values():\n",
    "            if val!=0:\n",
    "                return False\n",
    "        return True\n",
    "\n",
    "example=solution()\n",
    "A='asdafqwer'\n",
    "B='dfsaaqwre'\n",
    "print example.permuation(A,B)"
   ]
  },
  {
   "cell_type": "code",
   "execution_count": 16,
   "metadata": {},
   "outputs": [
    {
     "name": "stdout",
     "output_type": "stream",
     "text": [
      "{'a': 3, 's': 2, 'd': 2, 'f': 1}\n"
     ]
    }
   ],
   "source": [
    "dict1={}\n",
    "A='asdafasd'\n",
    "for i in A:\n",
    "    if i not in dict1:\n",
    "        dict1[i]=1\n",
    "    else:\n",
    "        dict1[i]+=1\n",
    "print dict1"
   ]
  },
  {
   "cell_type": "code",
   "execution_count": null,
   "metadata": {},
   "outputs": [],
   "source": []
  }
 ],
 "metadata": {
  "kernelspec": {
   "display_name": "Python 2",
   "language": "python",
   "name": "python2"
  },
  "language_info": {
   "codemirror_mode": {
    "name": "ipython",
    "version": 2
   },
   "file_extension": ".py",
   "mimetype": "text/x-python",
   "name": "python",
   "nbconvert_exporter": "python",
   "pygments_lexer": "ipython2",
   "version": "2.7.15"
  }
 },
 "nbformat": 4,
 "nbformat_minor": 2
}
