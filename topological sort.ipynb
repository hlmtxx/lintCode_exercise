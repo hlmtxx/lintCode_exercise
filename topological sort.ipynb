{
 "cells": [
  {
   "cell_type": "code",
   "execution_count": 17,
   "metadata": {},
   "outputs": [
    {
     "data": {
      "text/plain": [
       "[0, 1, 2, 3, 4, 5]"
      ]
     },
     "execution_count": 17,
     "metadata": {},
     "output_type": "execute_result"
    }
   ],
   "source": [
    "class DirectedGraphNode:\n",
    "    def __init__(self,x):\n",
    "        self.label=x\n",
    "        self.neighbors=[]\n",
    "class solution:\n",
    "    def topsort(self,graph):\n",
    "        node_with_indegree=self.get_indegree(graph)\n",
    "        order=[]\n",
    "        start_nodes=[n for n in graph if node_with_indegree[n]==0]\n",
    "        while len(start_nodes)>0:\n",
    "            node=start_nodes.pop(0)\n",
    "            order.append(node.label)\n",
    "            for neighbor in node.neighbors:\n",
    "                node_with_indegree[neighbor]-=1\n",
    "                if node_with_indegree[neighbor]==0:\n",
    "                    start_nodes.append(neighbor)\n",
    "        return order\n",
    "                    \n",
    "        \n",
    "    def get_indegree(self,graph):\n",
    "        node_with_indegree={x:0 for x in graph}\n",
    "    \n",
    "        for node in graph:\n",
    "            for neighbor in node.neighbors:\n",
    "                node_with_indegree[neighbor]+=1\n",
    "    \n",
    "        return node_with_indegree\n",
    "        \n",
    "example=solution()\n",
    "a=DirectedGraphNode(0)\n",
    "b=DirectedGraphNode(1)\n",
    "c=DirectedGraphNode(2)\n",
    "d=DirectedGraphNode(3)\n",
    "e=DirectedGraphNode(4)\n",
    "f=DirectedGraphNode(5)\n",
    "a.neighbors=[b,c,d]\n",
    "b.neighbors=[e]\n",
    "c.neighbors=[e,f]\n",
    "d.neighbors=[e,f]\n",
    "graph=[a,b,c,d,e,f]\n",
    "example.topsort(graph)"
   ]
  },
  {
   "cell_type": "code",
   "execution_count": 8,
   "metadata": {},
   "outputs": [
    {
     "name": "stdout",
     "output_type": "stream",
     "text": [
      "1 4\n",
      "2 3\n",
      "3 2\n",
      "4 1\n",
      "5 0\n"
     ]
    }
   ],
   "source": [
    "graph=[1,2,3,4,5]\n",
    "node={x:0 for x in graph}\n",
    "start_nodes=[n for n in graph if node[n]==0]\n",
    "while len(start_nodes)>0:\n",
    "    a=start_nodes.pop(0)\n",
    "    print a ,len(start_nodes)"
   ]
  },
  {
   "cell_type": "code",
   "execution_count": 15,
   "metadata": {},
   "outputs": [
    {
     "ename": "SyntaxError",
     "evalue": "can't assign to literal (<ipython-input-15-407ae3acd02d>, line 5)",
     "output_type": "error",
     "traceback": [
      "\u001b[1;36m  File \u001b[1;32m\"<ipython-input-15-407ae3acd02d>\"\u001b[1;36m, line \u001b[1;32m5\u001b[0m\n\u001b[1;33m    '1'=DirectedGraphNode(1)\u001b[0m\n\u001b[1;31mSyntaxError\u001b[0m\u001b[1;31m:\u001b[0m can't assign to literal\n"
     ]
    }
   ],
   "source": [
    "class DirectedGraphNode:\n",
    "    def __init__(self,x):\n",
    "        self.label=x\n",
    "        self.neighbors=[]\n",
    "a=DirectedGraphNode(1)\n",
    "print a.label"
   ]
  },
  {
   "cell_type": "code",
   "execution_count": null,
   "metadata": {},
   "outputs": [],
   "source": []
  }
 ],
 "metadata": {
  "kernelspec": {
   "display_name": "Python 2",
   "language": "python",
   "name": "python2"
  },
  "language_info": {
   "codemirror_mode": {
    "name": "ipython",
    "version": 2
   },
   "file_extension": ".py",
   "mimetype": "text/x-python",
   "name": "python",
   "nbconvert_exporter": "python",
   "pygments_lexer": "ipython2",
   "version": "2.7.15"
  }
 },
 "nbformat": 4,
 "nbformat_minor": 2
}
