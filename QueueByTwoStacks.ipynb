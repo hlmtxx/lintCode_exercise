{
 "cells": [
  {
   "cell_type": "code",
   "execution_count": null,
   "metadata": {},
   "outputs": [],
   "source": [
    "class Queue:\n",
    "    def __init__(self):\n",
    "        self.stack1=[]\n",
    "        self.stack2=[]\n",
    "    def adjust(self):\n",
    "        if len(self.stack2)==0:\n",
    "            while len(self.stack1)!=0:\n",
    "                self.stack2.append(self.stack1.pop())\n",
    "    def push(self.element):\n",
    "        self.stack1.append(element)\n",
    "        \n",
    "    def top(self):\n",
    "        self.adjust()\n",
    "        return self.stack2[len(self.stack2)-1]\n",
    "    def pop(self):\n",
    "        self.adjust()\n",
    "        return self.stack2.pop()"
   ]
  }
 ],
 "metadata": {
  "kernelspec": {
   "display_name": "Python 2",
   "language": "python",
   "name": "python2"
  },
  "language_info": {
   "codemirror_mode": {
    "name": "ipython",
    "version": 2
   },
   "file_extension": ".py",
   "mimetype": "text/x-python",
   "name": "python",
   "nbconvert_exporter": "python",
   "pygments_lexer": "ipython2",
   "version": "2.7.15"
  }
 },
 "nbformat": 4,
 "nbformat_minor": 2
}
