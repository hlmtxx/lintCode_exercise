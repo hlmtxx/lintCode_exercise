{
 "cells": [
  {
   "cell_type": "code",
   "execution_count": 9,
   "metadata": {},
   "outputs": [
    {
     "name": "stdout",
     "output_type": "stream",
     "text": [
      "12\n",
      "2\n",
      "7\n",
      "6\n",
      "1\n"
     ]
    }
   ],
   "source": [
    "class MinStack:\n",
    "    def __init__(self):\n",
    "        self.stack=[]\n",
    "        self.minStack=[]\n",
    "        \n",
    "    def push(self,number):\n",
    "        self.stack.append(number)\n",
    "        if len(self.minStack)==0:\n",
    "            self.minStack.append(number)\n",
    "        elif number<self.minStack[-1]:\n",
    "            self.minStack.append(number)\n",
    "            \n",
    "    def pop(self):\n",
    "        ret=self.stack.pop()\n",
    "        if number ==self.minStack[-1]:\n",
    "            self.minStack.pop()\n",
    "        return ret\n",
    "    def Min(self):\n",
    "        return self.minStack[-1]\n",
    "    \n",
    "stack=MinStack()\n",
    "stack.push(1)\n",
    "stack.push(6)\n",
    "stack.push(7)\n",
    "stack.push(2)\n",
    "stack.push(12)\n",
    "\n",
    "for i in range(5):\n",
    "    print stack.pop()"
   ]
  },
  {
   "cell_type": "code",
   "execution_count": 2,
   "metadata": {},
   "outputs": [
    {
     "data": {
      "text/plain": [
       "3"
      ]
     },
     "execution_count": 2,
     "metadata": {},
     "output_type": "execute_result"
    }
   ],
   "source": [
    "a=[]\n",
    "b=[]\n",
    "a.append(3)\n",
    "number=3\n",
    "a.append(min(number,a[-1]))\n",
    "a.pop()"
   ]
  },
  {
   "cell_type": "code",
   "execution_count": null,
   "metadata": {},
   "outputs": [],
   "source": []
  }
 ],
 "metadata": {
  "kernelspec": {
   "display_name": "Python 2",
   "language": "python",
   "name": "python2"
  },
  "language_info": {
   "codemirror_mode": {
    "name": "ipython",
    "version": 2
   },
   "file_extension": ".py",
   "mimetype": "text/x-python",
   "name": "python",
   "nbconvert_exporter": "python",
   "pygments_lexer": "ipython2",
   "version": "2.7.15"
  }
 },
 "nbformat": 4,
 "nbformat_minor": 2
}
