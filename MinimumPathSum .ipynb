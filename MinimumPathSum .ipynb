{
 "cells": [
  {
   "cell_type": "code",
   "execution_count": 1,
   "metadata": {},
   "outputs": [],
   "source": [
    "#左上走到右下，只能向右和向下\n",
    "class solution:\n",
    "    def MinimumPathSum(self,grid):\n",
    "        for i in range(len(grid)):\n",
    "            for j in range(len(grid[0])):\n",
    "                if i==0 and j>0:\n",
    "                    grid[i][j]+=grid[i][j-1]\n",
    "                elif j==0 and i>0:\n",
    "                    grid[i][j]+=grid[i-1][j]\n",
    "                    \n",
    "                elif i>0 and j>0:\n",
    "                    grid[i][j]+=min(grid[i-1][j],grid[j-1][i])\n",
    "        return grid[len(grid)-1][len(grid[0])-1]\n",
    "                "
   ]
  },
  {
   "cell_type": "code",
   "execution_count": 18,
   "metadata": {},
   "outputs": [
    {
     "data": {
      "text/plain": [
       "(11, [[6, 8, 11], [5, 7, 8], [2, 6, 7]])"
      ]
     },
     "execution_count": 18,
     "metadata": {},
     "output_type": "execute_result"
    }
   ],
   "source": [
    "#左下走到右上，方向不限\n",
    "\n",
    "class solution:\n",
    "    def MinmumPathSum(self,matrix):\n",
    "        n=len(matrix)\n",
    "        m=len(matrix[0])\n",
    "        self.dx=[0,1,0,-1]\n",
    "        self.dy=[1,0,-1,0]\n",
    "        dis=[[0x7fffffff for i in range(m)] for j in range(n)]\n",
    "        #dis[n-1][0]=matrix[n-1][0]\n",
    "        self.dfs(matrix,dis,n-1,0,matrix[n-1][0])\n",
    "        return dis[0][m-1],dis\n",
    "    \n",
    "    def dfs(self,matrix,dis,current_x,current_y,current_sum):\n",
    "        dis[current_x][current_y]=current_sum\n",
    "        n=len(matrix)\n",
    "        m=len(matrix[0])\n",
    "        for i in range(4):\n",
    "            next_x=current_x+self.dx[i]\n",
    "            next_y=current_y+self.dy[i]\n",
    "            if next_x>n-1 or next_x<0 or next_y<0 or next_y>m-1 or dis[next_x][next_y]<current_sum+matrix[next_x][next_y]:\n",
    "                continue\n",
    "            self.dfs(matrix,dis,next_x,next_y,current_sum+matrix[next_x][next_y])\n",
    "\n",
    "matrix=[[1,2,3],\n",
    "        [3,2,1],\n",
    "        [2,4,1]]\n",
    "example=solution()\n",
    "example.MinmumPathSum(matrix)\n",
    "\n"
   ]
  },
  {
   "cell_type": "code",
   "execution_count": 12,
   "metadata": {},
   "outputs": [
    {
     "name": "stdout",
     "output_type": "stream",
     "text": [
      "[[2, 1, 1], [1, 1, 1], [1, 1, 1]]\n"
     ]
    }
   ],
   "source": [
    "matrix=[[1,2,3],[3,2,1],[2,4,1]]\n",
    "matrix[0]=8\n",
    "dis=[[1,1,1] for j in range(3)]\n",
    "dis[0][0]=2\n",
    "print dis"
   ]
  },
  {
   "cell_type": "code",
   "execution_count": null,
   "metadata": {},
   "outputs": [],
   "source": []
  }
 ],
 "metadata": {
  "kernelspec": {
   "display_name": "Python 2",
   "language": "python",
   "name": "python2"
  },
  "language_info": {
   "codemirror_mode": {
    "name": "ipython",
    "version": 2
   },
   "file_extension": ".py",
   "mimetype": "text/x-python",
   "name": "python",
   "nbconvert_exporter": "python",
   "pygments_lexer": "ipython2",
   "version": "2.7.15"
  }
 },
 "nbformat": 4,
 "nbformat_minor": 2
}
