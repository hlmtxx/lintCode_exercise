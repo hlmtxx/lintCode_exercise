{
 "cells": [
  {
   "cell_type": "code",
   "execution_count": 9,
   "metadata": {},
   "outputs": [
    {
     "name": "stdout",
     "output_type": "stream",
     "text": [
      "1 2\n",
      "3 4\n",
      "5 6\n"
     ]
    }
   ],
   "source": [
    "class Interval(object):\n",
    "    def __init__(self,start,end):\n",
    "        self.start=start\n",
    "        self.end=end\n",
    "        \n",
    "class solution:\n",
    "    def insertInterval(self,intervals,newInterval):\n",
    "        results=[]\n",
    "        insertPos=0\n",
    "        for interval in intervals:\n",
    "            if interval.end<newInterval.start:\n",
    "                results.append(interval)\n",
    "                insertPos+=1\n",
    "            elif interval.start> newInterval.end:\n",
    "                results.append(interval)\n",
    "            else:\n",
    "                newInterval.start=min(interval.start, newInterval.start)\n",
    "                newInterval.end=max(interval.end,newInterval.end)\n",
    "        results.insert(insertPos, newInterval)\n",
    "        return results\n",
    "\n",
    "example=solution()\n",
    "a=Interval(1,2)\n",
    "b=Interval(5,6)\n",
    "intervals=[a,b]\n",
    "c=Interval(3,4)\n",
    "result= example.insertInterval(intervals,c)\n",
    "for interval in result:\n",
    "    print interval.start,interval.end"
   ]
  },
  {
   "cell_type": "code",
   "execution_count": null,
   "metadata": {},
   "outputs": [],
   "source": []
  },
  {
   "cell_type": "code",
   "execution_count": null,
   "metadata": {},
   "outputs": [],
   "source": []
  }
 ],
 "metadata": {
  "kernelspec": {
   "display_name": "Python 2",
   "language": "python",
   "name": "python2"
  },
  "language_info": {
   "codemirror_mode": {
    "name": "ipython",
    "version": 2
   },
   "file_extension": ".py",
   "mimetype": "text/x-python",
   "name": "python",
   "nbconvert_exporter": "python",
   "pygments_lexer": "ipython2",
   "version": "2.7.15"
  }
 },
 "nbformat": 4,
 "nbformat_minor": 2
}
