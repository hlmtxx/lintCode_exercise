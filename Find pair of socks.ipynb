{
 "cells": [
  {
   "cell_type": "code",
   "execution_count": 38,
   "metadata": {
    "scrolled": true
   },
   "outputs": [
    {
     "name": "stdout",
     "output_type": "stream",
     "text": [
      "5\n"
     ]
    }
   ],
   "source": [
    "from collections import Counter\n",
    "def sockMerchant(n, ar):\n",
    "    a=Counter(ar)\n",
    "    pair=0\n",
    "    for color, count in a.items():\n",
    "        pair=pair+count//2\n",
    "    return pair\n",
    "n=9\n",
    "ar=[10, 10, 10, 10 ,10, 10, 10 ,10 ,20,20]\n",
    "pair= sockMerchant(n,ar)\n",
    "print pair"
   ]
  },
  {
   "cell_type": "code",
   "execution_count": 29,
   "metadata": {},
   "outputs": [
    {
     "name": "stdout",
     "output_type": "stream",
     "text": [
      "Counter({2: 6, 3: 4, 1: 3, 4: 1})\n",
      "(1, 3)\n",
      "(2, 6)\n",
      "(3, 4)\n",
      "(4, 1)\n"
     ]
    }
   ],
   "source": [
    "from collections import Counter\n",
    "\n",
    "a=[1,2,3,2,1,2,3,4,3,2,1,2,3,2]\n",
    "b=Counter(a)\n",
    "print b\n",
    "\n",
    "for i in b.items():\n",
    "    print i\n"
   ]
  },
  {
   "cell_type": "code",
   "execution_count": null,
   "metadata": {},
   "outputs": [],
   "source": []
  }
 ],
 "metadata": {
  "kernelspec": {
   "display_name": "Python 2",
   "language": "python",
   "name": "python2"
  },
  "language_info": {
   "codemirror_mode": {
    "name": "ipython",
    "version": 2
   },
   "file_extension": ".py",
   "mimetype": "text/x-python",
   "name": "python",
   "nbconvert_exporter": "python",
   "pygments_lexer": "ipython2",
   "version": "2.7.15"
  }
 },
 "nbformat": 4,
 "nbformat_minor": 2
}
