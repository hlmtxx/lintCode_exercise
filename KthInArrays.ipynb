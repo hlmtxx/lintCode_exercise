{
 "cells": [
  {
   "cell_type": "code",
   "execution_count": 6,
   "metadata": {},
   "outputs": [
    {
     "name": "stdout",
     "output_type": "stream",
     "text": [
      "[[4, 3, 2], [8, 4, 2]]\n"
     ]
    }
   ],
   "source": [
    "maxheap = [(-arr[0], index, 0) for index, arr in enumerate(sortedArrays) ]"
   ]
  },
  {
   "cell_type": "code",
   "execution_count": 15,
   "metadata": {},
   "outputs": [
    {
     "name": "stdout",
     "output_type": "stream",
     "text": [
      "3\n"
     ]
    }
   ],
   "source": [
    "import heapq\n",
    "a=[[2,3,4],[4,8,2]]\n",
    "k=4\n",
    "sortedArrays=[]\n",
    "for arr in a:\n",
    "    sortedArrays.append(sorted(arr,reverse=True))\n",
    "maxheap = [(-arr[0], index, 0) for index, arr in enumerate(sortedArrays) ]\n",
    "heapq.heapify(maxheap)\n",
    "for _ in range(k):\n",
    "    num,x,y=heapq.heappop(maxheap)\n",
    "    num=-num\n",
    "    if y+1 < len(sortedArrays[x]):\n",
    "        heapq.heappush(maxheap,(-sortedArrays[x][y+1],x,y+1))\n",
    "print num"
   ]
  },
  {
   "cell_type": "code",
   "execution_count": null,
   "metadata": {},
   "outputs": [],
   "source": []
  }
 ],
 "metadata": {
  "kernelspec": {
   "display_name": "Python 2",
   "language": "python",
   "name": "python2"
  },
  "language_info": {
   "codemirror_mode": {
    "name": "ipython",
    "version": 2
   },
   "file_extension": ".py",
   "mimetype": "text/x-python",
   "name": "python",
   "nbconvert_exporter": "python",
   "pygments_lexer": "ipython2",
   "version": "2.7.15"
  }
 },
 "nbformat": 4,
 "nbformat_minor": 2
}
