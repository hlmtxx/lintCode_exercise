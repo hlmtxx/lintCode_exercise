{
 "cells": [
  {
   "cell_type": "code",
   "execution_count": 15,
   "metadata": {},
   "outputs": [
    {
     "data": {
      "text/plain": [
       "[1, 2, 3, 4, 5]"
      ]
     },
     "execution_count": 15,
     "metadata": {},
     "output_type": "execute_result"
    }
   ],
   "source": [
    "class Solution:\n",
    "    \"\"\"\n",
    "    @param nums: An integer array\n",
    "    @return: nothing\n",
    "    \"\"\"\n",
    "    def getGCD(self,a,b):\n",
    "        if (a%b==0):\n",
    "            return b\n",
    "        return self.getGCD(b,a%b)\n",
    "    def recoverRotatedSortedArray(self, nums):\n",
    "        lenth=len(nums)\n",
    "        offset=0\n",
    "        temp=0\n",
    "        for i in xrange(lenth-1):\n",
    "            if nums[i]>nums[i+1]:\n",
    "                offset=i+1\n",
    "        if offset==0:\n",
    "            return\n",
    "        offset=lenth-offset\n",
    "        gcd=self.getGCD(offset,lenth)\n",
    "        for i in xrange(gcd):\n",
    "            next=(i+offset)%lenth\n",
    "            while next!=i :\n",
    "                nums[i],nums[next]=nums[next],nums[i]\n",
    "                next=(next+offset)%lenth\n",
    "            \n",
    "        return     \n",
    "    \n",
    "nums=[4,5,1,2,3]\n",
    "example=Solution()\n",
    "example.recoverRotatedSortedArray(nums)\n",
    "nums"
   ]
  },
  {
   "cell_type": "code",
   "execution_count": 11,
   "metadata": {},
   "outputs": [
    {
     "data": {
      "text/plain": [
       "1"
      ]
     },
     "execution_count": 11,
     "metadata": {},
     "output_type": "execute_result"
    }
   ],
   "source": [
    "nums=[1,2,3,4]\n",
    "\n",
    "nums[-4]"
   ]
  },
  {
   "cell_type": "code",
   "execution_count": null,
   "metadata": {},
   "outputs": [],
   "source": []
  }
 ],
 "metadata": {
  "kernelspec": {
   "display_name": "Python 2",
   "language": "python",
   "name": "python2"
  },
  "language_info": {
   "codemirror_mode": {
    "name": "ipython",
    "version": 2
   },
   "file_extension": ".py",
   "mimetype": "text/x-python",
   "name": "python",
   "nbconvert_exporter": "python",
   "pygments_lexer": "ipython2",
   "version": "2.7.15"
  }
 },
 "nbformat": 4,
 "nbformat_minor": 2
}
