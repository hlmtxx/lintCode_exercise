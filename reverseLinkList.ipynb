{
 "cells": [
  {
   "cell_type": "code",
   "execution_count": 10,
   "metadata": {},
   "outputs": [
    {
     "data": {
      "text/plain": [
       "1"
      ]
     },
     "execution_count": 10,
     "metadata": {},
     "output_type": "execute_result"
    }
   ],
   "source": [
    "class listNode(object):\n",
    "    def __init__(self,val,next=None):\n",
    "        self.val=val\n",
    "        self.next=next\n",
    "class solution():   \n",
    "    def reverse(self,head):\n",
    "        current=None\n",
    "        while head!=None:\n",
    "            temp=head.next\n",
    "            head.next=current\n",
    "            current=head\n",
    "            head=temp\n",
    "        return current\n",
    "    \n",
    "example=solution()\n",
    "a=listNode(1)\n",
    "b=listNode(2)\n",
    "c=listNode(3)\n",
    "a.next=b\n",
    "b.next=c\n",
    "\n",
    "temp=a\n",
    "a=b\n",
    "temp.val"
   ]
  },
  {
   "cell_type": "code",
   "execution_count": null,
   "metadata": {},
   "outputs": [],
   "source": [
    "class solution():\n",
    "    def reverse(self,head):\n",
    "        current=None\n",
    "        while head:\n",
    "            temp=head.next\n",
    "            head.next=current\n",
    "            current=head\n",
    "            head=temp\n",
    "        return current"
   ]
  }
 ],
 "metadata": {
  "kernelspec": {
   "display_name": "Python 2",
   "language": "python",
   "name": "python2"
  },
  "language_info": {
   "codemirror_mode": {
    "name": "ipython",
    "version": 2
   },
   "file_extension": ".py",
   "mimetype": "text/x-python",
   "name": "python",
   "nbconvert_exporter": "python",
   "pygments_lexer": "ipython2",
   "version": "2.7.15"
  }
 },
 "nbformat": 4,
 "nbformat_minor": 2
}
