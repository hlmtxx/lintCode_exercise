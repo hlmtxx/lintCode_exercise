{
 "cells": [
  {
   "cell_type": "code",
   "execution_count": 4,
   "metadata": {},
   "outputs": [
    {
     "name": "stdout",
     "output_type": "stream",
     "text": [
      "True\n"
     ]
    }
   ],
   "source": [
    "class TreeNode:\n",
    "    def __init__(self,val):\n",
    "        self.val=val\n",
    "        self.left,self.right=None, None\n",
    "        \n",
    "class solution:\n",
    "    def  isValidBST(self,root):\n",
    "        if not root:\n",
    "            return True\n",
    "        stack=[]\n",
    "        while root:\n",
    "            stack.append(root)\n",
    "            root=root.left\n",
    "            \n",
    "        lastnode=stack[-1]\n",
    "        while stack:\n",
    "            node=stack.pop()\n",
    "            if node.right:\n",
    "                node=node.right\n",
    "                while node:\n",
    "                    stack.append(node)\n",
    "                    node=node.left\n",
    "            if stack:\n",
    "                if stack[-1].val<=lastnode.val:\n",
    "                    return False\n",
    "                lastnode=stack[-1]\n",
    "        return True\n",
    "\n",
    "example=solution()\n",
    "root=TreeNode(5)\n",
    "a=TreeNode(3)\n",
    "b=TreeNode(2)\n",
    "c=TreeNode(4)\n",
    "d=TreeNode(1)\n",
    "e=TreeNode(8)\n",
    "f=TreeNode(6)\n",
    "g=TreeNode(7)\n",
    "h=TreeNode(9)\n",
    "root.left=a\n",
    "root.right=e\n",
    "a.left=b\n",
    "a.right=c\n",
    "b.left=d\n",
    "e.left=f\n",
    "e.right=h\n",
    "f.right=g\n",
    "print example.isValidBST(root)"
   ]
  },
  {
   "cell_type": "code",
   "execution_count": 26,
   "metadata": {},
   "outputs": [
    {
     "name": "stdout",
     "output_type": "stream",
     "text": [
      "True\n"
     ]
    }
   ],
   "source": [
    "class TreeNode:\n",
    "    def __init__(self,val):\n",
    "        self.val=val\n",
    "        self.left,self.right=None,None\n",
    "        \n",
    "class solution:\n",
    "    def isValidBST(self,root):\n",
    "\n",
    "        return self.TestValue(root)\n",
    "    \n",
    "    def TestValue(self,root,left=float('-inf'),right=float('inf')):\n",
    "        if root is None:\n",
    "            return True\n",
    "        if root.val<=left:\n",
    "            return False\n",
    "        if root.val>=right:\n",
    "            return False\n",
    "        return self.TestValue(root.left,left,root.val) and self.TestValue(root.right,root.val,right)\n",
    "    \n",
    "example=solution()\n",
    "root=TreeNode(5)\n",
    "a=TreeNode(3)\n",
    "b=TreeNode(2)\n",
    "c=TreeNode(4)\n",
    "d=TreeNode(1)\n",
    "e=TreeNode(8)\n",
    "f=TreeNode(6)\n",
    "g=TreeNode(7)\n",
    "h=TreeNode(9)\n",
    "root.left=a\n",
    "root.right=e\n",
    "a.left=b\n",
    "a.right=c\n",
    "b.left=d\n",
    "e.left=f\n",
    "e.right=h\n",
    "f.right=g\n",
    "print example.isValidBST(root)        "
   ]
  },
  {
   "cell_type": "code",
   "execution_count": 36,
   "metadata": {},
   "outputs": [
    {
     "ename": "SyntaxError",
     "evalue": "non-keyword arg after keyword arg (<ipython-input-36-f2c220478c09>, line 4)",
     "output_type": "error",
     "traceback": [
      "\u001b[1;36m  File \u001b[1;32m\"<ipython-input-36-f2c220478c09>\"\u001b[1;36m, line \u001b[1;32m4\u001b[0m\n\u001b[1;33m    f(a=4,3,c=2)\u001b[0m\n\u001b[1;31mSyntaxError\u001b[0m\u001b[1;31m:\u001b[0m non-keyword arg after keyword arg\n"
     ]
    }
   ],
   "source": [
    "def f(a=1,b=2,c=3):\n",
    "    print a+b+c\n",
    "    \n",
    "f(a=4,3,c=2)"
   ]
  },
  {
   "cell_type": "code",
   "execution_count": null,
   "metadata": {},
   "outputs": [],
   "source": []
  }
 ],
 "metadata": {
  "kernelspec": {
   "display_name": "Python 2",
   "language": "python",
   "name": "python2"
  },
  "language_info": {
   "codemirror_mode": {
    "name": "ipython",
    "version": 2
   },
   "file_extension": ".py",
   "mimetype": "text/x-python",
   "name": "python",
   "nbconvert_exporter": "python",
   "pygments_lexer": "ipython2",
   "version": "2.7.15"
  }
 },
 "nbformat": 4,
 "nbformat_minor": 2
}
