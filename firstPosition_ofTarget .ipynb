{
 "cells": [
  {
   "cell_type": "code",
   "execution_count": 6,
   "metadata": {},
   "outputs": [
    {
     "name": "stdout",
     "output_type": "stream",
     "text": [
      "5\n"
     ]
    }
   ],
   "source": [
    "# 二分查找的模版，找第一次出现的位置。\n",
    "# 注意可能出现多次，所以当找到这个数字的时候不能直接结束，而要将right移动到mid处。\n",
    "# 直到最后缩小到只有一个或两个数字时，优先判断start，再判断end。\n",
    "\n",
    "\n",
    "class solution():\n",
    "    def binarySearch(self,num,target):\n",
    "        left,right=0,len(num)-1\n",
    "        while left<right-1:\n",
    "            mid=(left+right)/2\n",
    "            if num[mid]<target:\n",
    "                left=mid\n",
    "            else:\n",
    "                right=mid #关键\n",
    "        if num[left]==target:\n",
    "            return left\n",
    "        elif num[right]==target:\n",
    "            return right\n",
    "        return -1\n",
    "    \n",
    "example=solution()\n",
    "num=[2,3,5,6,12,34,34,34,34,34,34,34,56,78]\n",
    "target=34\n",
    "print example.binarySearch(num,target)\n",
    "        "
   ]
  },
  {
   "cell_type": "code",
   "execution_count": 3,
   "metadata": {},
   "outputs": [
    {
     "data": {
      "text/plain": [
       "int"
      ]
     },
     "execution_count": 3,
     "metadata": {},
     "output_type": "execute_result"
    }
   ],
   "source": [
    "num=[1,2,3]\n",
    "\n",
    "type(len(num))"
   ]
  },
  {
   "cell_type": "code",
   "execution_count": 4,
   "metadata": {},
   "outputs": [
    {
     "data": {
      "text/plain": [
       "0"
      ]
     },
     "execution_count": 4,
     "metadata": {},
     "output_type": "execute_result"
    }
   ],
   "source": [
    "1/2"
   ]
  },
  {
   "cell_type": "code",
   "execution_count": null,
   "metadata": {},
   "outputs": [],
   "source": []
  }
 ],
 "metadata": {
  "kernelspec": {
   "display_name": "Python 2",
   "language": "python",
   "name": "python2"
  },
  "language_info": {
   "codemirror_mode": {
    "name": "ipython",
    "version": 2
   },
   "file_extension": ".py",
   "mimetype": "text/x-python",
   "name": "python",
   "nbconvert_exporter": "python",
   "pygments_lexer": "ipython2",
   "version": "2.7.15"
  }
 },
 "nbformat": 4,
 "nbformat_minor": 2
}
