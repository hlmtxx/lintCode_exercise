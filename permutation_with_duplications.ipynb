{
 "cells": [
  {
   "cell_type": "code",
   "execution_count": 2,
   "metadata": {},
   "outputs": [
    {
     "name": "stdout",
     "output_type": "stream",
     "text": [
      "[[1, 1, 1, 3], [1, 1, 3, 1], [1, 3, 1, 1], [3, 1, 1, 1]]\n"
     ]
    }
   ],
   "source": [
    "class Solution:\n",
    "    \"\"\"\n",
    "    @param nums: A list of integers.\n",
    "    @return: A list of unique permutations.\n",
    "    \"\"\"\n",
    "    def permuteUnique(self, nums):\n",
    "        # write your code here\n",
    "        def _permute(result, temp, nums):\n",
    "            if nums == []:\n",
    "                result += [temp]\n",
    "            else:\n",
    "                for i in range(len(nums)):\n",
    "                    if i > 0 and nums[i] == nums[i-1]:\n",
    "                        continue\n",
    "                    _permute(result, temp + [nums[i]], nums[:i] + nums[i+1:])\n",
    "        if nums is None:\n",
    "            return []\n",
    "\n",
    "        if len(nums) == 0:\n",
    "            return [[]]\n",
    "\n",
    "        result = []\n",
    "        _permute(result, [], sorted(nums))\n",
    "        return result\n",
    "    \n",
    "example=Solution()\n",
    "nums=[1,1,1,3]\n",
    "print example.permuteUnique(nums)"
   ]
  },
  {
   "cell_type": "code",
   "execution_count": null,
   "metadata": {},
   "outputs": [],
   "source": []
  }
 ],
 "metadata": {
  "kernelspec": {
   "display_name": "Python 2",
   "language": "python",
   "name": "python2"
  },
  "language_info": {
   "codemirror_mode": {
    "name": "ipython",
    "version": 2
   },
   "file_extension": ".py",
   "mimetype": "text/x-python",
   "name": "python",
   "nbconvert_exporter": "python",
   "pygments_lexer": "ipython2",
   "version": "2.7.15"
  }
 },
 "nbformat": 4,
 "nbformat_minor": 2
}
